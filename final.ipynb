{
 "cells": [
  {
   "cell_type": "markdown",
   "metadata": {
    "_uuid": "b3f511261ab6660fa9e74b24912c094b7c8ea032"
   },
   "source": [
    " Competition : **New York City Taxi Fare Prediction** (https://www.kaggle.com/c/new-york-city-taxi-fare-prediction            \n",
    "\n",
    "* Predict a rider's taxi fare"
   ]
  },
  {
   "cell_type": "code",
   "execution_count": 1048,
   "metadata": {
    "_cell_guid": "b1076dfc-b9ad-4769-8c92-a6c4dae69d19",
    "_uuid": "8f2839f25d086af736a60e9eeb907d3b93b6e0e5"
   },
   "outputs": [],
   "source": [
    "# This Python 3 environment comes with many helpful analytics libraries installed\n",
    "# It is defined by the kaggle/python docker image: https://github.com/kaggle/docker-python\n",
    "# For example, here's several helpful packages to load in \n",
    "\n",
    "import numpy as np # linear algebra\n",
    "import pandas as pd # data processing, CSV file I/O (e.g. pd.read_csv)\n",
    "import matplotlib.pyplot as plt\n",
    "%matplotlib inline\n",
    "import seaborn as sns\n",
    "\n",
    "# Input data files are available in the \"../input/\" directory.\n",
    "# For example, running this (by clicking run or pressing Shift+Enter) will list the files in the input directory\n",
    "\n",
    "import os\n",
    "\n",
    "\n",
    "# Any results you write to the current directory are saved as output."
   ]
  },
  {
   "cell_type": "markdown",
   "metadata": {
    "_uuid": "0ab8710a504853ee4242f2b4850de8778dfa4abe"
   },
   "source": [
    "* Load the dataset and set number of rows as nrows =3900000"
   ]
  },
  {
   "cell_type": "code",
   "execution_count": 1049,
   "metadata": {
    "_uuid": "7ef5c283a1d31d168c10ac3c0025fc49046b9d12"
   },
   "outputs": [
    {
     "data": {
      "text/plain": [
       "Index(['key', 'fare_amount', 'pickup_datetime', 'pickup_longitude',\n",
       "       'pickup_latitude', 'dropoff_longitude', 'dropoff_latitude',\n",
       "       'passenger_count'],\n",
       "      dtype='object')"
      ]
     },
     "execution_count": 1049,
     "metadata": {},
     "output_type": "execute_result"
    }
   ],
   "source": [
    "data=pd.read_csv(\"D:/train.csv\",nrows = 39000)\n",
    "data.columns"
   ]
  },
  {
   "cell_type": "code",
   "execution_count": 1050,
   "metadata": {
    "_uuid": "fb3808b1329dd875cebb2fdbaa13911d211f97fe"
   },
   "outputs": [
    {
     "name": "stdout",
     "output_type": "stream",
     "text": [
      "Index(['fare_amount', 'pickup_datetime', 'pickup_longitude', 'pickup_latitude',\n",
      "       'dropoff_longitude', 'dropoff_latitude', 'passenger_count'],\n",
      "      dtype='object')\n",
      "(39000, 7)\n"
     ]
    }
   ],
   "source": [
    "#remove key column\n",
    "cols = ['fare_amount', 'pickup_datetime', 'pickup_longitude', 'pickup_latitude', 'dropoff_longitude', 'dropoff_latitude', 'passenger_count']\n",
    "data=pd.read_csv(\"D:/train.csv\",nrows = 39000,usecols=cols)\n",
    "print(data.columns)\n",
    "print(data.shape)"
   ]
  },
  {
   "cell_type": "markdown",
   "metadata": {
    "_uuid": "511dceedf080665a22de59c14050f672bc1b8ee7"
   },
   "source": [
    "\n",
    "**Data Wrangling**\n",
    "* Identify and handle missing values\n",
    "    -replace it with its mean \n",
    "    -drop the rows/columns having missing values\n",
    "* Find outliers\n",
    "* data formating (Incorrect datatype)\n",
    "* Fetaure Scaling/Normlization"
   ]
  },
  {
   "cell_type": "code",
   "execution_count": 1051,
   "metadata": {
    "_uuid": "c8551c1a22df65c02d515269f9915a316fce0e32"
   },
   "outputs": [
    {
     "data": {
      "text/html": [
       "<div>\n",
       "<style scoped>\n",
       "    .dataframe tbody tr th:only-of-type {\n",
       "        vertical-align: middle;\n",
       "    }\n",
       "\n",
       "    .dataframe tbody tr th {\n",
       "        vertical-align: top;\n",
       "    }\n",
       "\n",
       "    .dataframe thead th {\n",
       "        text-align: right;\n",
       "    }\n",
       "</style>\n",
       "<table border=\"1\" class=\"dataframe\">\n",
       "  <thead>\n",
       "    <tr style=\"text-align: right;\">\n",
       "      <th></th>\n",
       "      <th>fare_amount</th>\n",
       "      <th>pickup_datetime</th>\n",
       "      <th>pickup_longitude</th>\n",
       "      <th>pickup_latitude</th>\n",
       "      <th>dropoff_longitude</th>\n",
       "      <th>dropoff_latitude</th>\n",
       "      <th>passenger_count</th>\n",
       "    </tr>\n",
       "  </thead>\n",
       "  <tbody>\n",
       "    <tr>\n",
       "      <th>0</th>\n",
       "      <td>4.5</td>\n",
       "      <td>2009-06-15 17:26:21 UTC</td>\n",
       "      <td>-73.844311</td>\n",
       "      <td>40.721319</td>\n",
       "      <td>-73.841610</td>\n",
       "      <td>40.712278</td>\n",
       "      <td>1</td>\n",
       "    </tr>\n",
       "    <tr>\n",
       "      <th>1</th>\n",
       "      <td>16.9</td>\n",
       "      <td>2010-01-05 16:52:16 UTC</td>\n",
       "      <td>-74.016048</td>\n",
       "      <td>40.711303</td>\n",
       "      <td>-73.979268</td>\n",
       "      <td>40.782004</td>\n",
       "      <td>1</td>\n",
       "    </tr>\n",
       "    <tr>\n",
       "      <th>2</th>\n",
       "      <td>5.7</td>\n",
       "      <td>2011-08-18 00:35:00 UTC</td>\n",
       "      <td>-73.982738</td>\n",
       "      <td>40.761270</td>\n",
       "      <td>-73.991242</td>\n",
       "      <td>40.750562</td>\n",
       "      <td>2</td>\n",
       "    </tr>\n",
       "    <tr>\n",
       "      <th>3</th>\n",
       "      <td>7.7</td>\n",
       "      <td>2012-04-21 04:30:42 UTC</td>\n",
       "      <td>-73.987130</td>\n",
       "      <td>40.733143</td>\n",
       "      <td>-73.991567</td>\n",
       "      <td>40.758092</td>\n",
       "      <td>1</td>\n",
       "    </tr>\n",
       "    <tr>\n",
       "      <th>4</th>\n",
       "      <td>5.3</td>\n",
       "      <td>2010-03-09 07:51:00 UTC</td>\n",
       "      <td>-73.968095</td>\n",
       "      <td>40.768008</td>\n",
       "      <td>-73.956655</td>\n",
       "      <td>40.783762</td>\n",
       "      <td>1</td>\n",
       "    </tr>\n",
       "  </tbody>\n",
       "</table>\n",
       "</div>"
      ],
      "text/plain": [
       "   fare_amount          pickup_datetime  pickup_longitude  pickup_latitude  \\\n",
       "0          4.5  2009-06-15 17:26:21 UTC        -73.844311        40.721319   \n",
       "1         16.9  2010-01-05 16:52:16 UTC        -74.016048        40.711303   \n",
       "2          5.7  2011-08-18 00:35:00 UTC        -73.982738        40.761270   \n",
       "3          7.7  2012-04-21 04:30:42 UTC        -73.987130        40.733143   \n",
       "4          5.3  2010-03-09 07:51:00 UTC        -73.968095        40.768008   \n",
       "\n",
       "   dropoff_longitude  dropoff_latitude  passenger_count  \n",
       "0         -73.841610         40.712278                1  \n",
       "1         -73.979268         40.782004                1  \n",
       "2         -73.991242         40.750562                2  \n",
       "3         -73.991567         40.758092                1  \n",
       "4         -73.956655         40.783762                1  "
      ]
     },
     "execution_count": 1051,
     "metadata": {},
     "output_type": "execute_result"
    }
   ],
   "source": [
    "data.head(5)"
   ]
  },
  {
   "cell_type": "code",
   "execution_count": 1052,
   "metadata": {
    "_uuid": "496b4a452dcb9a74f265da875d51937736bdb06f"
   },
   "outputs": [
    {
     "data": {
      "text/html": [
       "<div>\n",
       "<style scoped>\n",
       "    .dataframe tbody tr th:only-of-type {\n",
       "        vertical-align: middle;\n",
       "    }\n",
       "\n",
       "    .dataframe tbody tr th {\n",
       "        vertical-align: top;\n",
       "    }\n",
       "\n",
       "    .dataframe thead th {\n",
       "        text-align: right;\n",
       "    }\n",
       "</style>\n",
       "<table border=\"1\" class=\"dataframe\">\n",
       "  <thead>\n",
       "    <tr style=\"text-align: right;\">\n",
       "      <th></th>\n",
       "      <th>fare_amount</th>\n",
       "      <th>pickup_longitude</th>\n",
       "      <th>pickup_latitude</th>\n",
       "      <th>dropoff_longitude</th>\n",
       "      <th>dropoff_latitude</th>\n",
       "      <th>passenger_count</th>\n",
       "    </tr>\n",
       "  </thead>\n",
       "  <tbody>\n",
       "    <tr>\n",
       "      <th>count</th>\n",
       "      <td>39000.000000</td>\n",
       "      <td>39000.000000</td>\n",
       "      <td>39000.000000</td>\n",
       "      <td>39000.000000</td>\n",
       "      <td>39000.000000</td>\n",
       "      <td>39000.000000</td>\n",
       "    </tr>\n",
       "    <tr>\n",
       "      <th>mean</th>\n",
       "      <td>11.352627</td>\n",
       "      <td>-72.511977</td>\n",
       "      <td>39.933840</td>\n",
       "      <td>-72.500111</td>\n",
       "      <td>39.920758</td>\n",
       "      <td>1.663615</td>\n",
       "    </tr>\n",
       "    <tr>\n",
       "      <th>std</th>\n",
       "      <td>9.645575</td>\n",
       "      <td>10.398607</td>\n",
       "      <td>6.327415</td>\n",
       "      <td>10.435640</td>\n",
       "      <td>6.071322</td>\n",
       "      <td>1.284639</td>\n",
       "    </tr>\n",
       "    <tr>\n",
       "      <th>min</th>\n",
       "      <td>-3.000000</td>\n",
       "      <td>-75.414728</td>\n",
       "      <td>-74.006893</td>\n",
       "      <td>-84.654241</td>\n",
       "      <td>-74.006377</td>\n",
       "      <td>0.000000</td>\n",
       "    </tr>\n",
       "    <tr>\n",
       "      <th>25%</th>\n",
       "      <td>6.000000</td>\n",
       "      <td>-73.992060</td>\n",
       "      <td>40.734798</td>\n",
       "      <td>-73.991171</td>\n",
       "      <td>40.734316</td>\n",
       "      <td>1.000000</td>\n",
       "    </tr>\n",
       "    <tr>\n",
       "      <th>50%</th>\n",
       "      <td>8.500000</td>\n",
       "      <td>-73.981746</td>\n",
       "      <td>40.752685</td>\n",
       "      <td>-73.980198</td>\n",
       "      <td>40.753326</td>\n",
       "      <td>1.000000</td>\n",
       "    </tr>\n",
       "    <tr>\n",
       "      <th>75%</th>\n",
       "      <td>12.500000</td>\n",
       "      <td>-73.967082</td>\n",
       "      <td>40.767325</td>\n",
       "      <td>-73.963766</td>\n",
       "      <td>40.768141</td>\n",
       "      <td>2.000000</td>\n",
       "    </tr>\n",
       "    <tr>\n",
       "      <th>max</th>\n",
       "      <td>200.000000</td>\n",
       "      <td>40.783472</td>\n",
       "      <td>401.083332</td>\n",
       "      <td>40.851027</td>\n",
       "      <td>43.415190</td>\n",
       "      <td>6.000000</td>\n",
       "    </tr>\n",
       "  </tbody>\n",
       "</table>\n",
       "</div>"
      ],
      "text/plain": [
       "        fare_amount  pickup_longitude  pickup_latitude  dropoff_longitude  \\\n",
       "count  39000.000000      39000.000000     39000.000000       39000.000000   \n",
       "mean      11.352627        -72.511977        39.933840         -72.500111   \n",
       "std        9.645575         10.398607         6.327415          10.435640   \n",
       "min       -3.000000        -75.414728       -74.006893         -84.654241   \n",
       "25%        6.000000        -73.992060        40.734798         -73.991171   \n",
       "50%        8.500000        -73.981746        40.752685         -73.980198   \n",
       "75%       12.500000        -73.967082        40.767325         -73.963766   \n",
       "max      200.000000         40.783472       401.083332          40.851027   \n",
       "\n",
       "       dropoff_latitude  passenger_count  \n",
       "count      39000.000000     39000.000000  \n",
       "mean          39.920758         1.663615  \n",
       "std            6.071322         1.284639  \n",
       "min          -74.006377         0.000000  \n",
       "25%           40.734316         1.000000  \n",
       "50%           40.753326         1.000000  \n",
       "75%           40.768141         2.000000  \n",
       "max           43.415190         6.000000  "
      ]
     },
     "execution_count": 1052,
     "metadata": {},
     "output_type": "execute_result"
    }
   ],
   "source": [
    "data.describe()"
   ]
  },
  {
   "cell_type": "markdown",
   "metadata": {
    "_uuid": "83658950665bd196ba5d619985d6377d7f9fecb1"
   },
   "source": [
    "**fare amount column :-**\n",
    "Found negative value of fare amount. Fare never be negative let's drop those rows which are having negative fare amount and also remove outliers"
   ]
  },
  {
   "cell_type": "code",
   "execution_count": 1053,
   "metadata": {
    "_uuid": "caa91fef6640e735b8bd92ff59dd76f1aa2fc236"
   },
   "outputs": [
    {
     "data": {
      "image/png": "[encoded data removed]",
      "text/plain": [
       "<Figure size 432x288 with 1 Axes>"
      ]
     },
     "metadata": {
      "needs_background": "light"
     },
     "output_type": "display_data"
    }
   ],
   "source": [
    "plt.scatter(x=data.fare_amount,y=data.index)\n",
    "plt.ylabel('Index')\n",
    "plt.xlabel('fare_amount')\n",
    "plt.show()"
   ]
  },
  {
   "cell_type": "code",
   "execution_count": 1054,
   "metadata": {
    "_uuid": "5eeb40a1651dc6a6f81d710baf2f8ad6761171da"
   },
   "outputs": [
    {
     "data": {
      "text/plain": [
       "5"
      ]
     },
     "execution_count": 1054,
     "metadata": {},
     "output_type": "execute_result"
    }
   ],
   "source": [
    "data['fare_amount'][(data.fare_amount<0) | (data.fare_amount>=300)].count()"
   ]
  },
  {
   "cell_type": "code",
   "execution_count": 1055,
   "metadata": {
    "_uuid": "c57dcc2427937f4680d4f3ce1782505ccaac9c9f"
   },
   "outputs": [
    {
     "data": {
      "text/plain": [
       "(39000, 7)"
      ]
     },
     "execution_count": 1055,
     "metadata": {},
     "output_type": "execute_result"
    }
   ],
   "source": [
    "data.shape"
   ]
  },
  {
   "cell_type": "code",
   "execution_count": 1056,
   "metadata": {
    "_uuid": "1f7cd432bb95dc6e18d8f9c557f1a08a9c87c43c"
   },
   "outputs": [],
   "source": [
    "data=data.drop(data[(data.fare_amount<0) | (data.fare_amount>=300)].index,axis=0)"
   ]
  },
  {
   "cell_type": "code",
   "execution_count": 1057,
   "metadata": {
    "_uuid": "b20937caf05e01f308c79f4377546c19bded9601"
   },
   "outputs": [
    {
     "data": {
      "text/plain": [
       "0"
      ]
     },
     "execution_count": 1057,
     "metadata": {},
     "output_type": "execute_result"
    }
   ],
   "source": [
    "data.fare_amount.isnull().sum()"
   ]
  },
  {
   "cell_type": "code",
   "execution_count": 1058,
   "metadata": {
    "_uuid": "89ba56605e86774368f59e9605715489340d2c31"
   },
   "outputs": [
    {
     "data": {
      "text/plain": [
       "(38995, 7)"
      ]
     },
     "execution_count": 1058,
     "metadata": {},
     "output_type": "execute_result"
    }
   ],
   "source": [
    "data.shape"
   ]
  },
  {
   "cell_type": "markdown",
   "metadata": {
    "_uuid": "71b255fc063ef2f58acf62c1cb74866ac8b42f70"
   },
   "source": [
    "data with negative fare_amount has been removed"
   ]
  },
  {
   "cell_type": "markdown",
   "metadata": {
    "_uuid": "7489c72b6f60e7428c8d932f3ab702216b275b5b"
   },
   "source": [
    "\n",
    "\n",
    "================================================"
   ]
  },
  {
   "cell_type": "markdown",
   "metadata": {
    "_uuid": "1d05d36f2ee756f653185e6ba4615d73eb034686"
   },
   "source": [
    "-find NaN values in given dataset and fill/replace it"
   ]
  },
  {
   "cell_type": "code",
   "execution_count": 1059,
   "metadata": {
    "_uuid": "d8c7d39ac3f70c3fd40cd3883170a8d86f9eb384"
   },
   "outputs": [
    {
     "data": {
      "text/plain": [
       "fare_amount          0\n",
       "pickup_datetime      0\n",
       "pickup_longitude     0\n",
       "pickup_latitude      0\n",
       "dropoff_longitude    0\n",
       "dropoff_latitude     0\n",
       "passenger_count      0\n",
       "dtype: int64"
      ]
     },
     "execution_count": 1059,
     "metadata": {},
     "output_type": "execute_result"
    }
   ],
   "source": [
    "data.isnull().sum()"
   ]
  },
  {
   "cell_type": "markdown",
   "metadata": {
    "_uuid": "2f1967f0635c38d1623c6d8b567bdcd5f7ff9e40"
   },
   "source": [
    "\n",
    "**longitude and latitude **\n",
    "\n",
    "found NaN values in columns dropoff_longitude and dropoff_latitude     \n",
    "We found NaN values in columns i) dropoff_longitude and ii) dropoff_latitude  which is not much as comapared to our dataset. So we will replace it by mean values\n",
    "\n",
    "**Changed the idea **"
   ]
  },
  {
   "cell_type": "code",
   "execution_count": 1060,
   "metadata": {
    "_uuid": "8339838763735d68af2ca54267eb01299ea7423e"
   },
   "outputs": [
    {
     "name": "stdout",
     "output_type": "stream",
     "text": [
      "0    40.721319\n",
      "1    40.711303\n",
      "2    40.761270\n",
      "3    40.733143\n",
      "4    40.768008\n",
      "Name: pickup_latitude, dtype: float64\n",
      "0    40.712278\n",
      "1    40.782004\n",
      "2    40.750562\n",
      "3    40.758092\n",
      "4    40.783762\n",
      "Name: dropoff_latitude, dtype: float64\n"
     ]
    }
   ],
   "source": [
    "print(data.pickup_latitude.head(5))\n",
    "print(data.dropoff_latitude.head(5))"
   ]
  },
  {
   "cell_type": "markdown",
   "metadata": {
    "_uuid": "4321b8d57109efde0d0797c8d14092a93fd8614e"
   },
   "source": [
    "-------------------------------\n",
    "Check test data latitude and longitude range for New your City (40° 42' 51\" N / 74° 0' 23\" W)"
   ]
  },
  {
   "cell_type": "code",
   "execution_count": 1061,
   "metadata": {
    "_uuid": "397fe7d4c8368f96e5d20df1985937750f959485"
   },
   "outputs": [
    {
     "data": {
      "text/html": [
       "<div>\n",
       "<style scoped>\n",
       "    .dataframe tbody tr th:only-of-type {\n",
       "        vertical-align: middle;\n",
       "    }\n",
       "\n",
       "    .dataframe tbody tr th {\n",
       "        vertical-align: top;\n",
       "    }\n",
       "\n",
       "    .dataframe thead th {\n",
       "        text-align: right;\n",
       "    }\n",
       "</style>\n",
       "<table border=\"1\" class=\"dataframe\">\n",
       "  <thead>\n",
       "    <tr style=\"text-align: right;\">\n",
       "      <th></th>\n",
       "      <th>key</th>\n",
       "      <th>pickup_datetime</th>\n",
       "      <th>pickup_longitude</th>\n",
       "      <th>pickup_latitude</th>\n",
       "      <th>dropoff_longitude</th>\n",
       "      <th>dropoff_latitude</th>\n",
       "      <th>passenger_count</th>\n",
       "    </tr>\n",
       "  </thead>\n",
       "  <tbody>\n",
       "    <tr>\n",
       "      <th>0</th>\n",
       "      <td>08:24.0</td>\n",
       "      <td>2015-01-27 13:08:24 UTC</td>\n",
       "      <td>-73.983123</td>\n",
       "      <td>40.725289</td>\n",
       "      <td>-73.981430</td>\n",
       "      <td>40.743835</td>\n",
       "      <td>1</td>\n",
       "    </tr>\n",
       "    <tr>\n",
       "      <th>1</th>\n",
       "      <td>08:24.0</td>\n",
       "      <td>2015-01-27 13:08:24 UTC</td>\n",
       "      <td>-73.789804</td>\n",
       "      <td>40.645352</td>\n",
       "      <td>-73.998886</td>\n",
       "      <td>40.739201</td>\n",
       "      <td>1</td>\n",
       "    </tr>\n",
       "    <tr>\n",
       "      <th>2</th>\n",
       "      <td>12:12.0</td>\n",
       "      <td>2011-10-08 11:53:44 UTC</td>\n",
       "      <td>-73.138071</td>\n",
       "      <td>41.365669</td>\n",
       "      <td>-73.979654</td>\n",
       "      <td>40.746139</td>\n",
       "      <td>1</td>\n",
       "    </tr>\n",
       "    <tr>\n",
       "      <th>3</th>\n",
       "      <td>12:12.0</td>\n",
       "      <td>2012-12-01 21:12:12 UTC</td>\n",
       "      <td>-73.973311</td>\n",
       "      <td>40.750564</td>\n",
       "      <td>-73.990448</td>\n",
       "      <td>40.751635</td>\n",
       "      <td>1</td>\n",
       "    </tr>\n",
       "    <tr>\n",
       "      <th>4</th>\n",
       "      <td>12:12.0</td>\n",
       "      <td>2012-12-01 21:12:12 UTC</td>\n",
       "      <td>-73.874097</td>\n",
       "      <td>40.773698</td>\n",
       "      <td>-73.988565</td>\n",
       "      <td>40.744427</td>\n",
       "      <td>1</td>\n",
       "    </tr>\n",
       "  </tbody>\n",
       "</table>\n",
       "</div>"
      ],
      "text/plain": [
       "       key          pickup_datetime  pickup_longitude  pickup_latitude  \\\n",
       "0  08:24.0  2015-01-27 13:08:24 UTC        -73.983123        40.725289   \n",
       "1  08:24.0  2015-01-27 13:08:24 UTC        -73.789804        40.645352   \n",
       "2  12:12.0  2011-10-08 11:53:44 UTC        -73.138071        41.365669   \n",
       "3  12:12.0  2012-12-01 21:12:12 UTC        -73.973311        40.750564   \n",
       "4  12:12.0  2012-12-01 21:12:12 UTC        -73.874097        40.773698   \n",
       "\n",
       "   dropoff_longitude  dropoff_latitude  passenger_count  \n",
       "0         -73.981430         40.743835                1  \n",
       "1         -73.998886         40.739201                1  \n",
       "2         -73.979654         40.746139                1  \n",
       "3         -73.990448         40.751635                1  \n",
       "4         -73.988565         40.744427                1  "
      ]
     },
     "execution_count": 1061,
     "metadata": {},
     "output_type": "execute_result"
    }
   ],
   "source": [
    "test_data=pd.read_csv('D:/test1.csv')\n",
    "test_data.head(5)"
   ]
  },
  {
   "cell_type": "code",
   "execution_count": 1062,
   "metadata": {
    "_uuid": "667b5b9a0052920b83729f0bfa878bf4ad1f0cef"
   },
   "outputs": [
    {
     "data": {
      "text/plain": [
       "Index(['key', 'pickup_datetime', 'pickup_longitude', 'pickup_latitude',\n",
       "       'dropoff_longitude', 'dropoff_latitude', 'passenger_count'],\n",
       "      dtype='object')"
      ]
     },
     "execution_count": 1062,
     "metadata": {},
     "output_type": "execute_result"
    }
   ],
   "source": [
    "test_data.columns"
   ]
  },
  {
   "cell_type": "markdown",
   "metadata": {
    "_uuid": "e1e6254bac1d04b5bce8e68cb43824e203ff2a18"
   },
   "source": [
    "longitude  max and min (test data)"
   ]
  },
  {
   "cell_type": "code",
   "execution_count": 1063,
   "metadata": {
    "_uuid": "c80dd2866b9b4d39871e51182168159992e4a7c8"
   },
   "outputs": [
    {
     "name": "stdout",
     "output_type": "stream",
     "text": [
      "-74.18677312 , -73.13807055\n"
     ]
    }
   ],
   "source": [
    "lon_min=min(test_data.pickup_longitude.min(),test_data.dropoff_longitude.min())\n",
    "lon_max=max(test_data.pickup_longitude.max(),test_data.dropoff_longitude.max())\n",
    "print(lon_min,',',lon_max)"
   ]
  },
  {
   "cell_type": "markdown",
   "metadata": {
    "_uuid": "cb4a5a290c570e2e57f954e66e63012167d954cb"
   },
   "source": [
    "latitude max and min (test data)"
   ]
  },
  {
   "cell_type": "code",
   "execution_count": 1064,
   "metadata": {
    "_uuid": "e2c811456412af629f6b40da4ff4c6e3a614270d"
   },
   "outputs": [
    {
     "name": "stdout",
     "output_type": "stream",
     "text": [
      "40.60521189 , 41.52379017\n"
     ]
    }
   ],
   "source": [
    "lat_min=min(test_data.pickup_latitude.min(),test_data.dropoff_latitude.min())\n",
    "lat_max=max(test_data.pickup_latitude.max(),test_data.dropoff_latitude.max())\n",
    "print(lat_min,',',lat_max)"
   ]
  },
  {
   "cell_type": "markdown",
   "metadata": {
    "_uuid": "e064ced4ce303e6dacb386c4781c3b1410def26f"
   },
   "source": [
    "--------------------------------------------"
   ]
  },
  {
   "cell_type": "markdown",
   "metadata": {
    "_uuid": "b0a5b0a5a50a6ec81659ef9651d3e4cc5ba0adfa"
   },
   "source": [
    "Apply the same range on train data and drop remaining \n",
    "\n",
    "**#pickup_latitude** & **dropoff_latitude** must be between lat_max and lat_min"
   ]
  },
  {
   "cell_type": "code",
   "execution_count": 1065,
   "metadata": {
    "_uuid": "febba076243392612dce6b5c8ddfbc364380c1c4"
   },
   "outputs": [
    {
     "data": {
      "text/html": [
       "<div>\n",
       "<style scoped>\n",
       "    .dataframe tbody tr th:only-of-type {\n",
       "        vertical-align: middle;\n",
       "    }\n",
       "\n",
       "    .dataframe tbody tr th {\n",
       "        vertical-align: top;\n",
       "    }\n",
       "\n",
       "    .dataframe thead th {\n",
       "        text-align: right;\n",
       "    }\n",
       "</style>\n",
       "<table border=\"1\" class=\"dataframe\">\n",
       "  <thead>\n",
       "    <tr style=\"text-align: right;\">\n",
       "      <th></th>\n",
       "      <th>fare_amount</th>\n",
       "      <th>pickup_datetime</th>\n",
       "      <th>pickup_longitude</th>\n",
       "      <th>pickup_latitude</th>\n",
       "      <th>dropoff_longitude</th>\n",
       "      <th>dropoff_latitude</th>\n",
       "      <th>passenger_count</th>\n",
       "    </tr>\n",
       "  </thead>\n",
       "  <tbody>\n",
       "    <tr>\n",
       "      <th>11</th>\n",
       "      <td>5.50</td>\n",
       "      <td>2012-12-24 11:24:00 UTC</td>\n",
       "      <td>0.000000</td>\n",
       "      <td>0.000000</td>\n",
       "      <td>0.000000</td>\n",
       "      <td>0.000000</td>\n",
       "      <td>3</td>\n",
       "    </tr>\n",
       "    <tr>\n",
       "      <th>15</th>\n",
       "      <td>5.00</td>\n",
       "      <td>2013-11-23 12:57:00 UTC</td>\n",
       "      <td>0.000000</td>\n",
       "      <td>0.000000</td>\n",
       "      <td>0.000000</td>\n",
       "      <td>0.000000</td>\n",
       "      <td>1</td>\n",
       "    </tr>\n",
       "    <tr>\n",
       "      <th>26</th>\n",
       "      <td>6.50</td>\n",
       "      <td>2011-02-07 20:01:00 UTC</td>\n",
       "      <td>0.000000</td>\n",
       "      <td>0.000000</td>\n",
       "      <td>0.000000</td>\n",
       "      <td>0.000000</td>\n",
       "      <td>1</td>\n",
       "    </tr>\n",
       "    <tr>\n",
       "      <th>124</th>\n",
       "      <td>8.00</td>\n",
       "      <td>2013-01-17 17:22:00 UTC</td>\n",
       "      <td>0.000000</td>\n",
       "      <td>0.000000</td>\n",
       "      <td>0.000000</td>\n",
       "      <td>0.000000</td>\n",
       "      <td>2</td>\n",
       "    </tr>\n",
       "    <tr>\n",
       "      <th>192</th>\n",
       "      <td>3.70</td>\n",
       "      <td>2010-09-05 17:08:00 UTC</td>\n",
       "      <td>0.000000</td>\n",
       "      <td>0.000000</td>\n",
       "      <td>0.000000</td>\n",
       "      <td>0.000000</td>\n",
       "      <td>5</td>\n",
       "    </tr>\n",
       "    <tr>\n",
       "      <th>233</th>\n",
       "      <td>8.50</td>\n",
       "      <td>2011-07-24 01:14:35 UTC</td>\n",
       "      <td>0.000000</td>\n",
       "      <td>0.000000</td>\n",
       "      <td>0.000000</td>\n",
       "      <td>0.000000</td>\n",
       "      <td>2</td>\n",
       "    </tr>\n",
       "    <tr>\n",
       "      <th>273</th>\n",
       "      <td>8.10</td>\n",
       "      <td>2009-10-30 18:13:00 UTC</td>\n",
       "      <td>0.000000</td>\n",
       "      <td>0.000000</td>\n",
       "      <td>0.000000</td>\n",
       "      <td>0.000000</td>\n",
       "      <td>4</td>\n",
       "    </tr>\n",
       "    <tr>\n",
       "      <th>357</th>\n",
       "      <td>8.50</td>\n",
       "      <td>2013-07-04 16:41:27 UTC</td>\n",
       "      <td>0.000000</td>\n",
       "      <td>0.000000</td>\n",
       "      <td>0.000000</td>\n",
       "      <td>0.000000</td>\n",
       "      <td>1</td>\n",
       "    </tr>\n",
       "    <tr>\n",
       "      <th>376</th>\n",
       "      <td>2.50</td>\n",
       "      <td>2014-05-29 05:57:22 UTC</td>\n",
       "      <td>0.000000</td>\n",
       "      <td>0.000000</td>\n",
       "      <td>0.000000</td>\n",
       "      <td>0.000000</td>\n",
       "      <td>1</td>\n",
       "    </tr>\n",
       "    <tr>\n",
       "      <th>387</th>\n",
       "      <td>13.00</td>\n",
       "      <td>2012-11-15 08:39:00 UTC</td>\n",
       "      <td>0.000000</td>\n",
       "      <td>0.000000</td>\n",
       "      <td>0.000000</td>\n",
       "      <td>0.000000</td>\n",
       "      <td>1</td>\n",
       "    </tr>\n",
       "    <tr>\n",
       "      <th>472</th>\n",
       "      <td>2.50</td>\n",
       "      <td>2009-02-22 22:48:00 UTC</td>\n",
       "      <td>0.000000</td>\n",
       "      <td>0.000000</td>\n",
       "      <td>-74.005433</td>\n",
       "      <td>40.726685</td>\n",
       "      <td>2</td>\n",
       "    </tr>\n",
       "    <tr>\n",
       "      <th>498</th>\n",
       "      <td>17.00</td>\n",
       "      <td>2009-03-16 04:47:17 UTC</td>\n",
       "      <td>0.000000</td>\n",
       "      <td>0.000000</td>\n",
       "      <td>0.000000</td>\n",
       "      <td>0.000000</td>\n",
       "      <td>1</td>\n",
       "    </tr>\n",
       "    <tr>\n",
       "      <th>540</th>\n",
       "      <td>16.00</td>\n",
       "      <td>2013-10-29 01:09:14 UTC</td>\n",
       "      <td>0.000000</td>\n",
       "      <td>0.000000</td>\n",
       "      <td>0.000000</td>\n",
       "      <td>0.000000</td>\n",
       "      <td>1</td>\n",
       "    </tr>\n",
       "    <tr>\n",
       "      <th>542</th>\n",
       "      <td>4.50</td>\n",
       "      <td>2009-12-29 14:23:00 UTC</td>\n",
       "      <td>0.000000</td>\n",
       "      <td>0.000000</td>\n",
       "      <td>0.000000</td>\n",
       "      <td>0.000000</td>\n",
       "      <td>1</td>\n",
       "    </tr>\n",
       "    <tr>\n",
       "      <th>568</th>\n",
       "      <td>6.50</td>\n",
       "      <td>2014-10-08 06:49:18 UTC</td>\n",
       "      <td>0.000000</td>\n",
       "      <td>0.000000</td>\n",
       "      <td>0.000000</td>\n",
       "      <td>0.000000</td>\n",
       "      <td>1</td>\n",
       "    </tr>\n",
       "    <tr>\n",
       "      <th>660</th>\n",
       "      <td>13.30</td>\n",
       "      <td>2010-08-18 03:46:00 UTC</td>\n",
       "      <td>0.000000</td>\n",
       "      <td>0.000000</td>\n",
       "      <td>0.000000</td>\n",
       "      <td>0.000000</td>\n",
       "      <td>5</td>\n",
       "    </tr>\n",
       "    <tr>\n",
       "      <th>728</th>\n",
       "      <td>11.70</td>\n",
       "      <td>2010-02-13 01:52:11 UTC</td>\n",
       "      <td>0.000000</td>\n",
       "      <td>0.000000</td>\n",
       "      <td>0.000000</td>\n",
       "      <td>0.000000</td>\n",
       "      <td>1</td>\n",
       "    </tr>\n",
       "    <tr>\n",
       "      <th>799</th>\n",
       "      <td>3.00</td>\n",
       "      <td>2013-12-08 23:39:00 UTC</td>\n",
       "      <td>0.000000</td>\n",
       "      <td>0.000000</td>\n",
       "      <td>0.000000</td>\n",
       "      <td>0.000000</td>\n",
       "      <td>5</td>\n",
       "    </tr>\n",
       "    <tr>\n",
       "      <th>872</th>\n",
       "      <td>8.50</td>\n",
       "      <td>2011-09-25 02:07:00 UTC</td>\n",
       "      <td>0.000000</td>\n",
       "      <td>0.000000</td>\n",
       "      <td>0.000000</td>\n",
       "      <td>0.000000</td>\n",
       "      <td>1</td>\n",
       "    </tr>\n",
       "    <tr>\n",
       "      <th>881</th>\n",
       "      <td>8.50</td>\n",
       "      <td>2011-07-19 23:43:12 UTC</td>\n",
       "      <td>0.000000</td>\n",
       "      <td>0.000000</td>\n",
       "      <td>0.000000</td>\n",
       "      <td>0.000000</td>\n",
       "      <td>1</td>\n",
       "    </tr>\n",
       "    <tr>\n",
       "      <th>887</th>\n",
       "      <td>12.00</td>\n",
       "      <td>2014-09-26 19:41:41 UTC</td>\n",
       "      <td>0.000000</td>\n",
       "      <td>0.000000</td>\n",
       "      <td>0.000000</td>\n",
       "      <td>0.000000</td>\n",
       "      <td>1</td>\n",
       "    </tr>\n",
       "    <tr>\n",
       "      <th>958</th>\n",
       "      <td>2.50</td>\n",
       "      <td>2011-02-22 14:09:00 UTC</td>\n",
       "      <td>0.000000</td>\n",
       "      <td>0.000000</td>\n",
       "      <td>0.000000</td>\n",
       "      <td>0.000000</td>\n",
       "      <td>5</td>\n",
       "    </tr>\n",
       "    <tr>\n",
       "      <th>960</th>\n",
       "      <td>12.50</td>\n",
       "      <td>2013-05-31 05:02:30 UTC</td>\n",
       "      <td>0.000000</td>\n",
       "      <td>0.000000</td>\n",
       "      <td>0.000000</td>\n",
       "      <td>0.000000</td>\n",
       "      <td>1</td>\n",
       "    </tr>\n",
       "    <tr>\n",
       "      <th>964</th>\n",
       "      <td>14.10</td>\n",
       "      <td>2009-06-30 10:20:09 UTC</td>\n",
       "      <td>0.000000</td>\n",
       "      <td>0.000000</td>\n",
       "      <td>0.000000</td>\n",
       "      <td>0.000000</td>\n",
       "      <td>1</td>\n",
       "    </tr>\n",
       "    <tr>\n",
       "      <th>966</th>\n",
       "      <td>28.00</td>\n",
       "      <td>2015-06-08 01:59:17 UTC</td>\n",
       "      <td>0.000000</td>\n",
       "      <td>0.000000</td>\n",
       "      <td>0.000000</td>\n",
       "      <td>0.000000</td>\n",
       "      <td>1</td>\n",
       "    </tr>\n",
       "    <tr>\n",
       "      <th>1181</th>\n",
       "      <td>25.00</td>\n",
       "      <td>2012-10-11 00:21:00 UTC</td>\n",
       "      <td>-0.004093</td>\n",
       "      <td>0.033500</td>\n",
       "      <td>0.016852</td>\n",
       "      <td>0.017980</td>\n",
       "      <td>2</td>\n",
       "    </tr>\n",
       "    <tr>\n",
       "      <th>1314</th>\n",
       "      <td>11.50</td>\n",
       "      <td>2012-09-20 20:06:50 UTC</td>\n",
       "      <td>0.000000</td>\n",
       "      <td>0.000000</td>\n",
       "      <td>0.000000</td>\n",
       "      <td>0.000000</td>\n",
       "      <td>1</td>\n",
       "    </tr>\n",
       "    <tr>\n",
       "      <th>1316</th>\n",
       "      <td>8.50</td>\n",
       "      <td>2014-06-17 17:50:00 UTC</td>\n",
       "      <td>0.000000</td>\n",
       "      <td>0.000000</td>\n",
       "      <td>0.000000</td>\n",
       "      <td>0.000000</td>\n",
       "      <td>1</td>\n",
       "    </tr>\n",
       "    <tr>\n",
       "      <th>1335</th>\n",
       "      <td>180.00</td>\n",
       "      <td>2013-01-16 20:19:58 UTC</td>\n",
       "      <td>-74.429332</td>\n",
       "      <td>40.500046</td>\n",
       "      <td>-74.429332</td>\n",
       "      <td>40.500046</td>\n",
       "      <td>1</td>\n",
       "    </tr>\n",
       "    <tr>\n",
       "      <th>1397</th>\n",
       "      <td>4.50</td>\n",
       "      <td>2009-02-17 07:30:00 UTC</td>\n",
       "      <td>0.000000</td>\n",
       "      <td>0.000000</td>\n",
       "      <td>0.000000</td>\n",
       "      <td>0.000000</td>\n",
       "      <td>2</td>\n",
       "    </tr>\n",
       "    <tr>\n",
       "      <th>...</th>\n",
       "      <td>...</td>\n",
       "      <td>...</td>\n",
       "      <td>...</td>\n",
       "      <td>...</td>\n",
       "      <td>...</td>\n",
       "      <td>...</td>\n",
       "      <td>...</td>\n",
       "    </tr>\n",
       "    <tr>\n",
       "      <th>37300</th>\n",
       "      <td>8.90</td>\n",
       "      <td>2010-11-04 12:22:00 UTC</td>\n",
       "      <td>-73.978923</td>\n",
       "      <td>40.604037</td>\n",
       "      <td>-73.976712</td>\n",
       "      <td>40.602800</td>\n",
       "      <td>1</td>\n",
       "    </tr>\n",
       "    <tr>\n",
       "      <th>37384</th>\n",
       "      <td>4.90</td>\n",
       "      <td>2010-03-28 17:39:21 UTC</td>\n",
       "      <td>0.000000</td>\n",
       "      <td>0.000000</td>\n",
       "      <td>0.000000</td>\n",
       "      <td>0.000000</td>\n",
       "      <td>1</td>\n",
       "    </tr>\n",
       "    <tr>\n",
       "      <th>37423</th>\n",
       "      <td>4.10</td>\n",
       "      <td>2010-01-09 21:11:02 UTC</td>\n",
       "      <td>0.000000</td>\n",
       "      <td>0.000000</td>\n",
       "      <td>0.000000</td>\n",
       "      <td>0.000000</td>\n",
       "      <td>1</td>\n",
       "    </tr>\n",
       "    <tr>\n",
       "      <th>37424</th>\n",
       "      <td>10.90</td>\n",
       "      <td>2010-11-02 17:53:00 UTC</td>\n",
       "      <td>0.000000</td>\n",
       "      <td>0.000000</td>\n",
       "      <td>0.000000</td>\n",
       "      <td>0.000000</td>\n",
       "      <td>5</td>\n",
       "    </tr>\n",
       "    <tr>\n",
       "      <th>37472</th>\n",
       "      <td>8.90</td>\n",
       "      <td>2009-10-09 13:25:03 UTC</td>\n",
       "      <td>0.000000</td>\n",
       "      <td>0.000000</td>\n",
       "      <td>0.000000</td>\n",
       "      <td>0.000000</td>\n",
       "      <td>2</td>\n",
       "    </tr>\n",
       "    <tr>\n",
       "      <th>37610</th>\n",
       "      <td>10.00</td>\n",
       "      <td>2013-05-24 12:35:51 UTC</td>\n",
       "      <td>0.000000</td>\n",
       "      <td>0.000000</td>\n",
       "      <td>0.000000</td>\n",
       "      <td>0.000000</td>\n",
       "      <td>1</td>\n",
       "    </tr>\n",
       "    <tr>\n",
       "      <th>37618</th>\n",
       "      <td>11.00</td>\n",
       "      <td>2014-09-04 18:21:58 UTC</td>\n",
       "      <td>0.000000</td>\n",
       "      <td>0.000000</td>\n",
       "      <td>-73.976417</td>\n",
       "      <td>40.759453</td>\n",
       "      <td>1</td>\n",
       "    </tr>\n",
       "    <tr>\n",
       "      <th>37804</th>\n",
       "      <td>8.00</td>\n",
       "      <td>2012-10-28 15:00:00 UTC</td>\n",
       "      <td>0.000000</td>\n",
       "      <td>0.000000</td>\n",
       "      <td>0.000000</td>\n",
       "      <td>0.000000</td>\n",
       "      <td>5</td>\n",
       "    </tr>\n",
       "    <tr>\n",
       "      <th>37809</th>\n",
       "      <td>38.83</td>\n",
       "      <td>2014-05-01 19:42:55 UTC</td>\n",
       "      <td>0.000000</td>\n",
       "      <td>0.000000</td>\n",
       "      <td>0.000000</td>\n",
       "      <td>0.000000</td>\n",
       "      <td>1</td>\n",
       "    </tr>\n",
       "    <tr>\n",
       "      <th>37834</th>\n",
       "      <td>9.30</td>\n",
       "      <td>2011-07-15 01:36:00 UTC</td>\n",
       "      <td>0.000000</td>\n",
       "      <td>0.000000</td>\n",
       "      <td>0.000000</td>\n",
       "      <td>0.000000</td>\n",
       "      <td>1</td>\n",
       "    </tr>\n",
       "    <tr>\n",
       "      <th>37861</th>\n",
       "      <td>6.50</td>\n",
       "      <td>2014-05-14 18:46:55 UTC</td>\n",
       "      <td>0.000000</td>\n",
       "      <td>0.000000</td>\n",
       "      <td>0.000000</td>\n",
       "      <td>0.000000</td>\n",
       "      <td>1</td>\n",
       "    </tr>\n",
       "    <tr>\n",
       "      <th>37938</th>\n",
       "      <td>12.50</td>\n",
       "      <td>2013-04-15 07:09:00 UTC</td>\n",
       "      <td>0.000000</td>\n",
       "      <td>0.000000</td>\n",
       "      <td>0.000000</td>\n",
       "      <td>0.000000</td>\n",
       "      <td>1</td>\n",
       "    </tr>\n",
       "    <tr>\n",
       "      <th>37956</th>\n",
       "      <td>6.90</td>\n",
       "      <td>2012-06-04 20:32:28 UTC</td>\n",
       "      <td>0.000000</td>\n",
       "      <td>0.000000</td>\n",
       "      <td>0.000000</td>\n",
       "      <td>0.000000</td>\n",
       "      <td>1</td>\n",
       "    </tr>\n",
       "    <tr>\n",
       "      <th>38059</th>\n",
       "      <td>6.00</td>\n",
       "      <td>2014-03-29 17:47:36 UTC</td>\n",
       "      <td>0.000000</td>\n",
       "      <td>0.000000</td>\n",
       "      <td>0.000000</td>\n",
       "      <td>0.000000</td>\n",
       "      <td>1</td>\n",
       "    </tr>\n",
       "    <tr>\n",
       "      <th>38173</th>\n",
       "      <td>10.50</td>\n",
       "      <td>2014-04-14 06:54:00 UTC</td>\n",
       "      <td>0.000000</td>\n",
       "      <td>0.000000</td>\n",
       "      <td>0.000000</td>\n",
       "      <td>0.000000</td>\n",
       "      <td>1</td>\n",
       "    </tr>\n",
       "    <tr>\n",
       "      <th>38191</th>\n",
       "      <td>7.30</td>\n",
       "      <td>2010-06-27 19:49:38 UTC</td>\n",
       "      <td>0.000000</td>\n",
       "      <td>0.000000</td>\n",
       "      <td>0.000000</td>\n",
       "      <td>0.000000</td>\n",
       "      <td>1</td>\n",
       "    </tr>\n",
       "    <tr>\n",
       "      <th>38209</th>\n",
       "      <td>10.50</td>\n",
       "      <td>2013-07-13 22:26:39 UTC</td>\n",
       "      <td>0.000000</td>\n",
       "      <td>0.000000</td>\n",
       "      <td>0.000000</td>\n",
       "      <td>0.000000</td>\n",
       "      <td>1</td>\n",
       "    </tr>\n",
       "    <tr>\n",
       "      <th>38310</th>\n",
       "      <td>6.50</td>\n",
       "      <td>2012-09-15 12:58:00 UTC</td>\n",
       "      <td>0.000000</td>\n",
       "      <td>0.000000</td>\n",
       "      <td>0.000000</td>\n",
       "      <td>0.000000</td>\n",
       "      <td>5</td>\n",
       "    </tr>\n",
       "    <tr>\n",
       "      <th>38315</th>\n",
       "      <td>12.10</td>\n",
       "      <td>2011-04-30 10:09:28 UTC</td>\n",
       "      <td>0.000000</td>\n",
       "      <td>0.000000</td>\n",
       "      <td>0.000000</td>\n",
       "      <td>0.000000</td>\n",
       "      <td>1</td>\n",
       "    </tr>\n",
       "    <tr>\n",
       "      <th>38380</th>\n",
       "      <td>11.00</td>\n",
       "      <td>2015-02-04 07:04:40 UTC</td>\n",
       "      <td>0.000000</td>\n",
       "      <td>0.000000</td>\n",
       "      <td>0.000000</td>\n",
       "      <td>0.000000</td>\n",
       "      <td>1</td>\n",
       "    </tr>\n",
       "    <tr>\n",
       "      <th>38401</th>\n",
       "      <td>21.00</td>\n",
       "      <td>2014-01-24 21:12:32 UTC</td>\n",
       "      <td>0.000000</td>\n",
       "      <td>0.000000</td>\n",
       "      <td>0.000000</td>\n",
       "      <td>0.000000</td>\n",
       "      <td>1</td>\n",
       "    </tr>\n",
       "    <tr>\n",
       "      <th>38553</th>\n",
       "      <td>13.50</td>\n",
       "      <td>2014-10-07 20:59:00 UTC</td>\n",
       "      <td>0.000000</td>\n",
       "      <td>0.000000</td>\n",
       "      <td>0.000000</td>\n",
       "      <td>0.000000</td>\n",
       "      <td>1</td>\n",
       "    </tr>\n",
       "    <tr>\n",
       "      <th>38562</th>\n",
       "      <td>3.70</td>\n",
       "      <td>2012-01-22 18:58:00 UTC</td>\n",
       "      <td>0.000000</td>\n",
       "      <td>0.000000</td>\n",
       "      <td>0.000000</td>\n",
       "      <td>0.000000</td>\n",
       "      <td>5</td>\n",
       "    </tr>\n",
       "    <tr>\n",
       "      <th>38635</th>\n",
       "      <td>8.10</td>\n",
       "      <td>2011-12-03 09:42:00 UTC</td>\n",
       "      <td>0.000000</td>\n",
       "      <td>0.000000</td>\n",
       "      <td>0.000000</td>\n",
       "      <td>0.000000</td>\n",
       "      <td>1</td>\n",
       "    </tr>\n",
       "    <tr>\n",
       "      <th>38652</th>\n",
       "      <td>11.30</td>\n",
       "      <td>2010-12-09 09:55:00 UTC</td>\n",
       "      <td>0.000000</td>\n",
       "      <td>0.000000</td>\n",
       "      <td>0.000000</td>\n",
       "      <td>0.000000</td>\n",
       "      <td>1</td>\n",
       "    </tr>\n",
       "    <tr>\n",
       "      <th>38706</th>\n",
       "      <td>6.50</td>\n",
       "      <td>2012-01-24 07:44:56 UTC</td>\n",
       "      <td>0.000000</td>\n",
       "      <td>0.000000</td>\n",
       "      <td>0.000000</td>\n",
       "      <td>0.000000</td>\n",
       "      <td>1</td>\n",
       "    </tr>\n",
       "    <tr>\n",
       "      <th>38815</th>\n",
       "      <td>10.00</td>\n",
       "      <td>2012-12-18 03:51:13 UTC</td>\n",
       "      <td>0.000000</td>\n",
       "      <td>0.000000</td>\n",
       "      <td>0.000000</td>\n",
       "      <td>0.000000</td>\n",
       "      <td>1</td>\n",
       "    </tr>\n",
       "    <tr>\n",
       "      <th>38902</th>\n",
       "      <td>49.80</td>\n",
       "      <td>2012-04-27 21:56:00 UTC</td>\n",
       "      <td>0.000000</td>\n",
       "      <td>0.000000</td>\n",
       "      <td>0.000000</td>\n",
       "      <td>0.000000</td>\n",
       "      <td>1</td>\n",
       "    </tr>\n",
       "    <tr>\n",
       "      <th>38929</th>\n",
       "      <td>6.50</td>\n",
       "      <td>2010-02-13 21:58:17 UTC</td>\n",
       "      <td>0.000000</td>\n",
       "      <td>0.000000</td>\n",
       "      <td>0.000000</td>\n",
       "      <td>0.000000</td>\n",
       "      <td>1</td>\n",
       "    </tr>\n",
       "    <tr>\n",
       "      <th>38990</th>\n",
       "      <td>10.00</td>\n",
       "      <td>2013-05-22 22:46:00 UTC</td>\n",
       "      <td>40.761210</td>\n",
       "      <td>-73.987585</td>\n",
       "      <td>40.782930</td>\n",
       "      <td>-73.978437</td>\n",
       "      <td>1</td>\n",
       "    </tr>\n",
       "  </tbody>\n",
       "</table>\n",
       "<p>789 rows × 7 columns</p>\n",
       "</div>"
      ],
      "text/plain": [
       "       fare_amount          pickup_datetime  pickup_longitude  \\\n",
       "11            5.50  2012-12-24 11:24:00 UTC          0.000000   \n",
       "15            5.00  2013-11-23 12:57:00 UTC          0.000000   \n",
       "26            6.50  2011-02-07 20:01:00 UTC          0.000000   \n",
       "124           8.00  2013-01-17 17:22:00 UTC          0.000000   \n",
       "192           3.70  2010-09-05 17:08:00 UTC          0.000000   \n",
       "233           8.50  2011-07-24 01:14:35 UTC          0.000000   \n",
       "273           8.10  2009-10-30 18:13:00 UTC          0.000000   \n",
       "357           8.50  2013-07-04 16:41:27 UTC          0.000000   \n",
       "376           2.50  2014-05-29 05:57:22 UTC          0.000000   \n",
       "387          13.00  2012-11-15 08:39:00 UTC          0.000000   \n",
       "472           2.50  2009-02-22 22:48:00 UTC          0.000000   \n",
       "498          17.00  2009-03-16 04:47:17 UTC          0.000000   \n",
       "540          16.00  2013-10-29 01:09:14 UTC          0.000000   \n",
       "542           4.50  2009-12-29 14:23:00 UTC          0.000000   \n",
       "568           6.50  2014-10-08 06:49:18 UTC          0.000000   \n",
       "660          13.30  2010-08-18 03:46:00 UTC          0.000000   \n",
       "728          11.70  2010-02-13 01:52:11 UTC          0.000000   \n",
       "799           3.00  2013-12-08 23:39:00 UTC          0.000000   \n",
       "872           8.50  2011-09-25 02:07:00 UTC          0.000000   \n",
       "881           8.50  2011-07-19 23:43:12 UTC          0.000000   \n",
       "887          12.00  2014-09-26 19:41:41 UTC          0.000000   \n",
       "958           2.50  2011-02-22 14:09:00 UTC          0.000000   \n",
       "960          12.50  2013-05-31 05:02:30 UTC          0.000000   \n",
       "964          14.10  2009-06-30 10:20:09 UTC          0.000000   \n",
       "966          28.00  2015-06-08 01:59:17 UTC          0.000000   \n",
       "1181         25.00  2012-10-11 00:21:00 UTC         -0.004093   \n",
       "1314         11.50  2012-09-20 20:06:50 UTC          0.000000   \n",
       "1316          8.50  2014-06-17 17:50:00 UTC          0.000000   \n",
       "1335        180.00  2013-01-16 20:19:58 UTC        -74.429332   \n",
       "1397          4.50  2009-02-17 07:30:00 UTC          0.000000   \n",
       "...            ...                      ...               ...   \n",
       "37300         8.90  2010-11-04 12:22:00 UTC        -73.978923   \n",
       "37384         4.90  2010-03-28 17:39:21 UTC          0.000000   \n",
       "37423         4.10  2010-01-09 21:11:02 UTC          0.000000   \n",
       "37424        10.90  2010-11-02 17:53:00 UTC          0.000000   \n",
       "37472         8.90  2009-10-09 13:25:03 UTC          0.000000   \n",
       "37610        10.00  2013-05-24 12:35:51 UTC          0.000000   \n",
       "37618        11.00  2014-09-04 18:21:58 UTC          0.000000   \n",
       "37804         8.00  2012-10-28 15:00:00 UTC          0.000000   \n",
       "37809        38.83  2014-05-01 19:42:55 UTC          0.000000   \n",
       "37834         9.30  2011-07-15 01:36:00 UTC          0.000000   \n",
       "37861         6.50  2014-05-14 18:46:55 UTC          0.000000   \n",
       "37938        12.50  2013-04-15 07:09:00 UTC          0.000000   \n",
       "37956         6.90  2012-06-04 20:32:28 UTC          0.000000   \n",
       "38059         6.00  2014-03-29 17:47:36 UTC          0.000000   \n",
       "38173        10.50  2014-04-14 06:54:00 UTC          0.000000   \n",
       "38191         7.30  2010-06-27 19:49:38 UTC          0.000000   \n",
       "38209        10.50  2013-07-13 22:26:39 UTC          0.000000   \n",
       "38310         6.50  2012-09-15 12:58:00 UTC          0.000000   \n",
       "38315        12.10  2011-04-30 10:09:28 UTC          0.000000   \n",
       "38380        11.00  2015-02-04 07:04:40 UTC          0.000000   \n",
       "38401        21.00  2014-01-24 21:12:32 UTC          0.000000   \n",
       "38553        13.50  2014-10-07 20:59:00 UTC          0.000000   \n",
       "38562         3.70  2012-01-22 18:58:00 UTC          0.000000   \n",
       "38635         8.10  2011-12-03 09:42:00 UTC          0.000000   \n",
       "38652        11.30  2010-12-09 09:55:00 UTC          0.000000   \n",
       "38706         6.50  2012-01-24 07:44:56 UTC          0.000000   \n",
       "38815        10.00  2012-12-18 03:51:13 UTC          0.000000   \n",
       "38902        49.80  2012-04-27 21:56:00 UTC          0.000000   \n",
       "38929         6.50  2010-02-13 21:58:17 UTC          0.000000   \n",
       "38990        10.00  2013-05-22 22:46:00 UTC         40.761210   \n",
       "\n",
       "       pickup_latitude  dropoff_longitude  dropoff_latitude  passenger_count  \n",
       "11            0.000000           0.000000          0.000000                3  \n",
       "15            0.000000           0.000000          0.000000                1  \n",
       "26            0.000000           0.000000          0.000000                1  \n",
       "124           0.000000           0.000000          0.000000                2  \n",
       "192           0.000000           0.000000          0.000000                5  \n",
       "233           0.000000           0.000000          0.000000                2  \n",
       "273           0.000000           0.000000          0.000000                4  \n",
       "357           0.000000           0.000000          0.000000                1  \n",
       "376           0.000000           0.000000          0.000000                1  \n",
       "387           0.000000           0.000000          0.000000                1  \n",
       "472           0.000000         -74.005433         40.726685                2  \n",
       "498           0.000000           0.000000          0.000000                1  \n",
       "540           0.000000           0.000000          0.000000                1  \n",
       "542           0.000000           0.000000          0.000000                1  \n",
       "568           0.000000           0.000000          0.000000                1  \n",
       "660           0.000000           0.000000          0.000000                5  \n",
       "728           0.000000           0.000000          0.000000                1  \n",
       "799           0.000000           0.000000          0.000000                5  \n",
       "872           0.000000           0.000000          0.000000                1  \n",
       "881           0.000000           0.000000          0.000000                1  \n",
       "887           0.000000           0.000000          0.000000                1  \n",
       "958           0.000000           0.000000          0.000000                5  \n",
       "960           0.000000           0.000000          0.000000                1  \n",
       "964           0.000000           0.000000          0.000000                1  \n",
       "966           0.000000           0.000000          0.000000                1  \n",
       "1181          0.033500           0.016852          0.017980                2  \n",
       "1314          0.000000           0.000000          0.000000                1  \n",
       "1316          0.000000           0.000000          0.000000                1  \n",
       "1335         40.500046         -74.429332         40.500046                1  \n",
       "1397          0.000000           0.000000          0.000000                2  \n",
       "...                ...                ...               ...              ...  \n",
       "37300        40.604037         -73.976712         40.602800                1  \n",
       "37384         0.000000           0.000000          0.000000                1  \n",
       "37423         0.000000           0.000000          0.000000                1  \n",
       "37424         0.000000           0.000000          0.000000                5  \n",
       "37472         0.000000           0.000000          0.000000                2  \n",
       "37610         0.000000           0.000000          0.000000                1  \n",
       "37618         0.000000         -73.976417         40.759453                1  \n",
       "37804         0.000000           0.000000          0.000000                5  \n",
       "37809         0.000000           0.000000          0.000000                1  \n",
       "37834         0.000000           0.000000          0.000000                1  \n",
       "37861         0.000000           0.000000          0.000000                1  \n",
       "37938         0.000000           0.000000          0.000000                1  \n",
       "37956         0.000000           0.000000          0.000000                1  \n",
       "38059         0.000000           0.000000          0.000000                1  \n",
       "38173         0.000000           0.000000          0.000000                1  \n",
       "38191         0.000000           0.000000          0.000000                1  \n",
       "38209         0.000000           0.000000          0.000000                1  \n",
       "38310         0.000000           0.000000          0.000000                5  \n",
       "38315         0.000000           0.000000          0.000000                1  \n",
       "38380         0.000000           0.000000          0.000000                1  \n",
       "38401         0.000000           0.000000          0.000000                1  \n",
       "38553         0.000000           0.000000          0.000000                1  \n",
       "38562         0.000000           0.000000          0.000000                5  \n",
       "38635         0.000000           0.000000          0.000000                1  \n",
       "38652         0.000000           0.000000          0.000000                1  \n",
       "38706         0.000000           0.000000          0.000000                1  \n",
       "38815         0.000000           0.000000          0.000000                1  \n",
       "38902         0.000000           0.000000          0.000000                1  \n",
       "38929         0.000000           0.000000          0.000000                1  \n",
       "38990       -73.987585          40.782930        -73.978437                1  \n",
       "\n",
       "[789 rows x 7 columns]"
      ]
     },
     "execution_count": 1065,
     "metadata": {},
     "output_type": "execute_result"
    }
   ],
   "source": [
    "data[(data.pickup_latitude< lat_min) | (data.pickup_latitude>lat_max) ]"
   ]
  },
  {
   "cell_type": "code",
   "execution_count": 1066,
   "metadata": {
    "_uuid": "d4a7f89b35206b2045692e2808bdb0a32c8f5ec3"
   },
   "outputs": [],
   "source": [
    "data.drop(data[(data.pickup_latitude< lat_min) | (data.pickup_latitude>lat_max)].index,axis=0,inplace=True)"
   ]
  },
  {
   "cell_type": "code",
   "execution_count": 1067,
   "metadata": {
    "_uuid": "2080b7d92b42fe5015d36eaf2d348ca152f69255"
   },
   "outputs": [
    {
     "data": {
      "text/html": [
       "<div>\n",
       "<style scoped>\n",
       "    .dataframe tbody tr th:only-of-type {\n",
       "        vertical-align: middle;\n",
       "    }\n",
       "\n",
       "    .dataframe tbody tr th {\n",
       "        vertical-align: top;\n",
       "    }\n",
       "\n",
       "    .dataframe thead th {\n",
       "        text-align: right;\n",
       "    }\n",
       "</style>\n",
       "<table border=\"1\" class=\"dataframe\">\n",
       "  <thead>\n",
       "    <tr style=\"text-align: right;\">\n",
       "      <th></th>\n",
       "      <th>fare_amount</th>\n",
       "      <th>pickup_datetime</th>\n",
       "      <th>pickup_longitude</th>\n",
       "      <th>pickup_latitude</th>\n",
       "      <th>dropoff_longitude</th>\n",
       "      <th>dropoff_latitude</th>\n",
       "      <th>passenger_count</th>\n",
       "    </tr>\n",
       "  </thead>\n",
       "  <tbody>\n",
       "    <tr>\n",
       "      <th>1260</th>\n",
       "      <td>5.70</td>\n",
       "      <td>2011-03-10 20:25:00 UTC</td>\n",
       "      <td>-73.973907</td>\n",
       "      <td>40.754743</td>\n",
       "      <td>0.000000</td>\n",
       "      <td>0.000000</td>\n",
       "      <td>2</td>\n",
       "    </tr>\n",
       "    <tr>\n",
       "      <th>2283</th>\n",
       "      <td>45.00</td>\n",
       "      <td>2013-03-05 23:35:49 UTC</td>\n",
       "      <td>-73.786815</td>\n",
       "      <td>40.641398</td>\n",
       "      <td>-73.968542</td>\n",
       "      <td>40.577815</td>\n",
       "      <td>2</td>\n",
       "    </tr>\n",
       "    <tr>\n",
       "      <th>4278</th>\n",
       "      <td>7.00</td>\n",
       "      <td>2015-04-07 23:33:02 UTC</td>\n",
       "      <td>-73.972702</td>\n",
       "      <td>40.757423</td>\n",
       "      <td>0.000000</td>\n",
       "      <td>0.000000</td>\n",
       "      <td>1</td>\n",
       "    </tr>\n",
       "    <tr>\n",
       "      <th>4291</th>\n",
       "      <td>45.00</td>\n",
       "      <td>2012-05-07 15:49:00 UTC</td>\n",
       "      <td>-74.031268</td>\n",
       "      <td>40.703843</td>\n",
       "      <td>-73.969337</td>\n",
       "      <td>40.551710</td>\n",
       "      <td>1</td>\n",
       "    </tr>\n",
       "    <tr>\n",
       "      <th>4567</th>\n",
       "      <td>10.10</td>\n",
       "      <td>2010-01-07 11:52:00 UTC</td>\n",
       "      <td>-73.989795</td>\n",
       "      <td>40.715727</td>\n",
       "      <td>-73.996540</td>\n",
       "      <td>40.484335</td>\n",
       "      <td>1</td>\n",
       "    </tr>\n",
       "    <tr>\n",
       "      <th>5044</th>\n",
       "      <td>52.90</td>\n",
       "      <td>2011-10-20 19:51:55 UTC</td>\n",
       "      <td>-73.982771</td>\n",
       "      <td>40.761852</td>\n",
       "      <td>-73.962296</td>\n",
       "      <td>40.590033</td>\n",
       "      <td>1</td>\n",
       "    </tr>\n",
       "    <tr>\n",
       "      <th>5795</th>\n",
       "      <td>37.50</td>\n",
       "      <td>2013-02-23 12:16:48 UTC</td>\n",
       "      <td>-73.776708</td>\n",
       "      <td>40.645295</td>\n",
       "      <td>-73.937149</td>\n",
       "      <td>40.590188</td>\n",
       "      <td>2</td>\n",
       "    </tr>\n",
       "    <tr>\n",
       "      <th>6384</th>\n",
       "      <td>33.70</td>\n",
       "      <td>2011-05-31 00:12:20 UTC</td>\n",
       "      <td>-73.988617</td>\n",
       "      <td>40.731455</td>\n",
       "      <td>-73.998338</td>\n",
       "      <td>40.597675</td>\n",
       "      <td>1</td>\n",
       "    </tr>\n",
       "    <tr>\n",
       "      <th>6971</th>\n",
       "      <td>58.00</td>\n",
       "      <td>2014-10-18 08:38:00 UTC</td>\n",
       "      <td>-73.946860</td>\n",
       "      <td>40.780910</td>\n",
       "      <td>-73.900825</td>\n",
       "      <td>40.590317</td>\n",
       "      <td>1</td>\n",
       "    </tr>\n",
       "    <tr>\n",
       "      <th>7014</th>\n",
       "      <td>4.50</td>\n",
       "      <td>2011-06-18 04:03:00 UTC</td>\n",
       "      <td>-73.988980</td>\n",
       "      <td>40.721697</td>\n",
       "      <td>-74.001073</td>\n",
       "      <td>0.728087</td>\n",
       "      <td>3</td>\n",
       "    </tr>\n",
       "    <tr>\n",
       "      <th>7368</th>\n",
       "      <td>42.00</td>\n",
       "      <td>2014-02-03 16:04:51 UTC</td>\n",
       "      <td>-73.788604</td>\n",
       "      <td>40.641973</td>\n",
       "      <td>-73.961122</td>\n",
       "      <td>40.598020</td>\n",
       "      <td>1</td>\n",
       "    </tr>\n",
       "    <tr>\n",
       "      <th>7635</th>\n",
       "      <td>25.30</td>\n",
       "      <td>2009-10-19 03:10:00 UTC</td>\n",
       "      <td>-74.102257</td>\n",
       "      <td>40.620580</td>\n",
       "      <td>-74.113213</td>\n",
       "      <td>40.582228</td>\n",
       "      <td>3</td>\n",
       "    </tr>\n",
       "    <tr>\n",
       "      <th>8347</th>\n",
       "      <td>42.50</td>\n",
       "      <td>2013-04-12 07:40:00 UTC</td>\n",
       "      <td>-73.784000</td>\n",
       "      <td>40.648640</td>\n",
       "      <td>-73.949217</td>\n",
       "      <td>40.604415</td>\n",
       "      <td>1</td>\n",
       "    </tr>\n",
       "    <tr>\n",
       "      <th>8552</th>\n",
       "      <td>54.61</td>\n",
       "      <td>2009-12-20 08:37:12 UTC</td>\n",
       "      <td>-73.985116</td>\n",
       "      <td>40.732566</td>\n",
       "      <td>-73.858382</td>\n",
       "      <td>40.574729</td>\n",
       "      <td>1</td>\n",
       "    </tr>\n",
       "    <tr>\n",
       "      <th>8647</th>\n",
       "      <td>21.50</td>\n",
       "      <td>2014-03-27 18:01:00 UTC</td>\n",
       "      <td>-74.001808</td>\n",
       "      <td>40.750782</td>\n",
       "      <td>0.000000</td>\n",
       "      <td>0.000000</td>\n",
       "      <td>1</td>\n",
       "    </tr>\n",
       "    <tr>\n",
       "      <th>10000</th>\n",
       "      <td>56.50</td>\n",
       "      <td>2012-03-08 20:11:00 UTC</td>\n",
       "      <td>-74.000777</td>\n",
       "      <td>40.728885</td>\n",
       "      <td>-74.138033</td>\n",
       "      <td>40.550097</td>\n",
       "      <td>5</td>\n",
       "    </tr>\n",
       "    <tr>\n",
       "      <th>10458</th>\n",
       "      <td>2.50</td>\n",
       "      <td>2013-02-23 20:58:00 UTC</td>\n",
       "      <td>-73.979678</td>\n",
       "      <td>40.765962</td>\n",
       "      <td>0.000000</td>\n",
       "      <td>0.000000</td>\n",
       "      <td>1</td>\n",
       "    </tr>\n",
       "    <tr>\n",
       "      <th>10488</th>\n",
       "      <td>5.30</td>\n",
       "      <td>2012-03-15 00:30:07 UTC</td>\n",
       "      <td>-73.978103</td>\n",
       "      <td>40.751798</td>\n",
       "      <td>0.000000</td>\n",
       "      <td>0.000000</td>\n",
       "      <td>1</td>\n",
       "    </tr>\n",
       "    <tr>\n",
       "      <th>10672</th>\n",
       "      <td>18.00</td>\n",
       "      <td>2015-04-30 15:34:46 UTC</td>\n",
       "      <td>-73.979355</td>\n",
       "      <td>40.753902</td>\n",
       "      <td>0.000000</td>\n",
       "      <td>0.000000</td>\n",
       "      <td>1</td>\n",
       "    </tr>\n",
       "    <tr>\n",
       "      <th>10898</th>\n",
       "      <td>37.30</td>\n",
       "      <td>2010-10-22 16:59:00 UTC</td>\n",
       "      <td>-73.790162</td>\n",
       "      <td>40.643745</td>\n",
       "      <td>-73.970812</td>\n",
       "      <td>40.588485</td>\n",
       "      <td>4</td>\n",
       "    </tr>\n",
       "    <tr>\n",
       "      <th>11488</th>\n",
       "      <td>51.70</td>\n",
       "      <td>2010-10-14 11:29:16 UTC</td>\n",
       "      <td>-73.997237</td>\n",
       "      <td>40.766952</td>\n",
       "      <td>-73.943765</td>\n",
       "      <td>40.584596</td>\n",
       "      <td>2</td>\n",
       "    </tr>\n",
       "    <tr>\n",
       "      <th>11964</th>\n",
       "      <td>7.70</td>\n",
       "      <td>2011-09-23 04:35:00 UTC</td>\n",
       "      <td>-74.089848</td>\n",
       "      <td>40.609495</td>\n",
       "      <td>-74.073173</td>\n",
       "      <td>40.602097</td>\n",
       "      <td>5</td>\n",
       "    </tr>\n",
       "    <tr>\n",
       "      <th>12228</th>\n",
       "      <td>16.50</td>\n",
       "      <td>2011-04-26 23:18:56 UTC</td>\n",
       "      <td>-73.993360</td>\n",
       "      <td>40.721749</td>\n",
       "      <td>-73.977370</td>\n",
       "      <td>39.610604</td>\n",
       "      <td>2</td>\n",
       "    </tr>\n",
       "    <tr>\n",
       "      <th>12398</th>\n",
       "      <td>4.50</td>\n",
       "      <td>2010-09-06 17:13:00 UTC</td>\n",
       "      <td>-73.980750</td>\n",
       "      <td>40.729825</td>\n",
       "      <td>-73.859060</td>\n",
       "      <td>40.574652</td>\n",
       "      <td>1</td>\n",
       "    </tr>\n",
       "    <tr>\n",
       "      <th>12705</th>\n",
       "      <td>2.50</td>\n",
       "      <td>2012-10-31 14:37:00 UTC</td>\n",
       "      <td>-73.929230</td>\n",
       "      <td>40.744627</td>\n",
       "      <td>0.000000</td>\n",
       "      <td>0.000000</td>\n",
       "      <td>5</td>\n",
       "    </tr>\n",
       "    <tr>\n",
       "      <th>12983</th>\n",
       "      <td>57.33</td>\n",
       "      <td>2013-03-07 21:04:00 UTC</td>\n",
       "      <td>-73.958870</td>\n",
       "      <td>40.760012</td>\n",
       "      <td>0.000000</td>\n",
       "      <td>0.000000</td>\n",
       "      <td>1</td>\n",
       "    </tr>\n",
       "    <tr>\n",
       "      <th>13506</th>\n",
       "      <td>37.70</td>\n",
       "      <td>2009-08-28 22:06:00 UTC</td>\n",
       "      <td>-73.790193</td>\n",
       "      <td>40.643654</td>\n",
       "      <td>-73.962255</td>\n",
       "      <td>40.588240</td>\n",
       "      <td>4</td>\n",
       "    </tr>\n",
       "    <tr>\n",
       "      <th>14197</th>\n",
       "      <td>48.00</td>\n",
       "      <td>2013-04-19 16:49:00 UTC</td>\n",
       "      <td>-73.870945</td>\n",
       "      <td>40.773700</td>\n",
       "      <td>0.000000</td>\n",
       "      <td>0.000000</td>\n",
       "      <td>1</td>\n",
       "    </tr>\n",
       "    <tr>\n",
       "      <th>14536</th>\n",
       "      <td>4.10</td>\n",
       "      <td>2011-04-03 12:16:46 UTC</td>\n",
       "      <td>-73.982155</td>\n",
       "      <td>40.775187</td>\n",
       "      <td>-73.976399</td>\n",
       "      <td>39.610030</td>\n",
       "      <td>1</td>\n",
       "    </tr>\n",
       "    <tr>\n",
       "      <th>18388</th>\n",
       "      <td>4.10</td>\n",
       "      <td>2012-04-11 01:57:21 UTC</td>\n",
       "      <td>-73.997738</td>\n",
       "      <td>40.714043</td>\n",
       "      <td>0.000000</td>\n",
       "      <td>0.000000</td>\n",
       "      <td>1</td>\n",
       "    </tr>\n",
       "    <tr>\n",
       "      <th>...</th>\n",
       "      <td>...</td>\n",
       "      <td>...</td>\n",
       "      <td>...</td>\n",
       "      <td>...</td>\n",
       "      <td>...</td>\n",
       "      <td>...</td>\n",
       "      <td>...</td>\n",
       "    </tr>\n",
       "    <tr>\n",
       "      <th>23737</th>\n",
       "      <td>2.50</td>\n",
       "      <td>2015-03-25 14:16:48 UTC</td>\n",
       "      <td>-73.963463</td>\n",
       "      <td>40.803772</td>\n",
       "      <td>0.000000</td>\n",
       "      <td>0.000000</td>\n",
       "      <td>1</td>\n",
       "    </tr>\n",
       "    <tr>\n",
       "      <th>24519</th>\n",
       "      <td>7.70</td>\n",
       "      <td>2012-07-18 06:45:00 UTC</td>\n",
       "      <td>-73.800000</td>\n",
       "      <td>40.698570</td>\n",
       "      <td>0.000000</td>\n",
       "      <td>0.000000</td>\n",
       "      <td>1</td>\n",
       "    </tr>\n",
       "    <tr>\n",
       "      <th>24647</th>\n",
       "      <td>26.10</td>\n",
       "      <td>2011-11-27 17:10:48 UTC</td>\n",
       "      <td>-73.978501</td>\n",
       "      <td>40.684345</td>\n",
       "      <td>-73.952070</td>\n",
       "      <td>40.586085</td>\n",
       "      <td>1</td>\n",
       "    </tr>\n",
       "    <tr>\n",
       "      <th>25109</th>\n",
       "      <td>36.50</td>\n",
       "      <td>2012-03-19 06:40:00 UTC</td>\n",
       "      <td>-73.781963</td>\n",
       "      <td>40.644822</td>\n",
       "      <td>-73.969648</td>\n",
       "      <td>40.597245</td>\n",
       "      <td>5</td>\n",
       "    </tr>\n",
       "    <tr>\n",
       "      <th>25344</th>\n",
       "      <td>43.00</td>\n",
       "      <td>2015-06-19 11:03:32 UTC</td>\n",
       "      <td>-73.776756</td>\n",
       "      <td>40.645370</td>\n",
       "      <td>-73.953934</td>\n",
       "      <td>40.601742</td>\n",
       "      <td>5</td>\n",
       "    </tr>\n",
       "    <tr>\n",
       "      <th>26994</th>\n",
       "      <td>4.50</td>\n",
       "      <td>2015-04-24 20:35:20 UTC</td>\n",
       "      <td>-73.962990</td>\n",
       "      <td>40.757809</td>\n",
       "      <td>0.000000</td>\n",
       "      <td>0.000000</td>\n",
       "      <td>6</td>\n",
       "    </tr>\n",
       "    <tr>\n",
       "      <th>28809</th>\n",
       "      <td>2.50</td>\n",
       "      <td>2013-08-29 17:33:10 UTC</td>\n",
       "      <td>-74.000635</td>\n",
       "      <td>40.730677</td>\n",
       "      <td>0.000000</td>\n",
       "      <td>0.000000</td>\n",
       "      <td>1</td>\n",
       "    </tr>\n",
       "    <tr>\n",
       "      <th>29547</th>\n",
       "      <td>4.50</td>\n",
       "      <td>2014-03-10 17:21:23 UTC</td>\n",
       "      <td>-73.959630</td>\n",
       "      <td>40.707350</td>\n",
       "      <td>0.000000</td>\n",
       "      <td>0.000000</td>\n",
       "      <td>4</td>\n",
       "    </tr>\n",
       "    <tr>\n",
       "      <th>30069</th>\n",
       "      <td>55.50</td>\n",
       "      <td>2013-08-24 03:27:45 UTC</td>\n",
       "      <td>-73.921431</td>\n",
       "      <td>40.766960</td>\n",
       "      <td>-73.955358</td>\n",
       "      <td>40.582127</td>\n",
       "      <td>1</td>\n",
       "    </tr>\n",
       "    <tr>\n",
       "      <th>30563</th>\n",
       "      <td>69.24</td>\n",
       "      <td>2010-07-16 01:16:46 UTC</td>\n",
       "      <td>-73.992633</td>\n",
       "      <td>40.725429</td>\n",
       "      <td>-74.203498</td>\n",
       "      <td>40.529306</td>\n",
       "      <td>1</td>\n",
       "    </tr>\n",
       "    <tr>\n",
       "      <th>31262</th>\n",
       "      <td>42.50</td>\n",
       "      <td>2013-10-29 19:24:38 UTC</td>\n",
       "      <td>-73.790271</td>\n",
       "      <td>40.644033</td>\n",
       "      <td>-73.960624</td>\n",
       "      <td>40.603496</td>\n",
       "      <td>1</td>\n",
       "    </tr>\n",
       "    <tr>\n",
       "      <th>31521</th>\n",
       "      <td>30.50</td>\n",
       "      <td>2011-03-09 18:36:07 UTC</td>\n",
       "      <td>-73.786044</td>\n",
       "      <td>40.641631</td>\n",
       "      <td>-73.943341</td>\n",
       "      <td>40.605059</td>\n",
       "      <td>1</td>\n",
       "    </tr>\n",
       "    <tr>\n",
       "      <th>31595</th>\n",
       "      <td>46.00</td>\n",
       "      <td>2014-02-20 13:15:12 UTC</td>\n",
       "      <td>-73.781933</td>\n",
       "      <td>40.644532</td>\n",
       "      <td>-73.962393</td>\n",
       "      <td>40.593656</td>\n",
       "      <td>1</td>\n",
       "    </tr>\n",
       "    <tr>\n",
       "      <th>31823</th>\n",
       "      <td>52.00</td>\n",
       "      <td>2013-11-26 18:12:00 UTC</td>\n",
       "      <td>-74.005490</td>\n",
       "      <td>40.739532</td>\n",
       "      <td>0.000000</td>\n",
       "      <td>0.000000</td>\n",
       "      <td>1</td>\n",
       "    </tr>\n",
       "    <tr>\n",
       "      <th>31836</th>\n",
       "      <td>13.00</td>\n",
       "      <td>2015-03-13 12:53:00 UTC</td>\n",
       "      <td>-73.989914</td>\n",
       "      <td>40.741550</td>\n",
       "      <td>0.000000</td>\n",
       "      <td>0.000000</td>\n",
       "      <td>1</td>\n",
       "    </tr>\n",
       "    <tr>\n",
       "      <th>32350</th>\n",
       "      <td>6.50</td>\n",
       "      <td>2013-07-03 08:57:43 UTC</td>\n",
       "      <td>-73.964240</td>\n",
       "      <td>40.756653</td>\n",
       "      <td>0.000000</td>\n",
       "      <td>0.000000</td>\n",
       "      <td>1</td>\n",
       "    </tr>\n",
       "    <tr>\n",
       "      <th>32382</th>\n",
       "      <td>29.30</td>\n",
       "      <td>2012-05-20 03:15:00 UTC</td>\n",
       "      <td>-74.001085</td>\n",
       "      <td>40.731635</td>\n",
       "      <td>-73.980062</td>\n",
       "      <td>40.598557</td>\n",
       "      <td>5</td>\n",
       "    </tr>\n",
       "    <tr>\n",
       "      <th>32799</th>\n",
       "      <td>2.50</td>\n",
       "      <td>2013-07-21 09:27:41 UTC</td>\n",
       "      <td>-73.973605</td>\n",
       "      <td>40.743763</td>\n",
       "      <td>0.000000</td>\n",
       "      <td>0.000000</td>\n",
       "      <td>1</td>\n",
       "    </tr>\n",
       "    <tr>\n",
       "      <th>32870</th>\n",
       "      <td>10.00</td>\n",
       "      <td>2014-03-22 17:20:00 UTC</td>\n",
       "      <td>-73.978722</td>\n",
       "      <td>40.736407</td>\n",
       "      <td>0.000000</td>\n",
       "      <td>0.000000</td>\n",
       "      <td>1</td>\n",
       "    </tr>\n",
       "    <tr>\n",
       "      <th>32916</th>\n",
       "      <td>14.50</td>\n",
       "      <td>2009-12-08 18:11:55 UTC</td>\n",
       "      <td>-73.989841</td>\n",
       "      <td>40.757526</td>\n",
       "      <td>0.000000</td>\n",
       "      <td>0.000000</td>\n",
       "      <td>1</td>\n",
       "    </tr>\n",
       "    <tr>\n",
       "      <th>33053</th>\n",
       "      <td>5.00</td>\n",
       "      <td>2014-04-30 14:59:00 UTC</td>\n",
       "      <td>-73.982815</td>\n",
       "      <td>40.748482</td>\n",
       "      <td>0.000000</td>\n",
       "      <td>0.000000</td>\n",
       "      <td>1</td>\n",
       "    </tr>\n",
       "    <tr>\n",
       "      <th>34503</th>\n",
       "      <td>3.00</td>\n",
       "      <td>2014-10-28 15:42:08 UTC</td>\n",
       "      <td>-73.980179</td>\n",
       "      <td>40.745820</td>\n",
       "      <td>0.000000</td>\n",
       "      <td>0.000000</td>\n",
       "      <td>1</td>\n",
       "    </tr>\n",
       "    <tr>\n",
       "      <th>36250</th>\n",
       "      <td>15.70</td>\n",
       "      <td>2012-06-09 10:35:00 UTC</td>\n",
       "      <td>0.000000</td>\n",
       "      <td>40.756762</td>\n",
       "      <td>0.000000</td>\n",
       "      <td>0.000000</td>\n",
       "      <td>1</td>\n",
       "    </tr>\n",
       "    <tr>\n",
       "      <th>36493</th>\n",
       "      <td>2.50</td>\n",
       "      <td>2012-08-04 03:14:00 UTC</td>\n",
       "      <td>-73.978055</td>\n",
       "      <td>40.754750</td>\n",
       "      <td>0.000000</td>\n",
       "      <td>0.000000</td>\n",
       "      <td>1</td>\n",
       "    </tr>\n",
       "    <tr>\n",
       "      <th>37467</th>\n",
       "      <td>89.90</td>\n",
       "      <td>2012-12-24 12:23:00 UTC</td>\n",
       "      <td>-73.983757</td>\n",
       "      <td>40.761047</td>\n",
       "      <td>-74.154890</td>\n",
       "      <td>40.564610</td>\n",
       "      <td>5</td>\n",
       "    </tr>\n",
       "    <tr>\n",
       "      <th>37770</th>\n",
       "      <td>4.10</td>\n",
       "      <td>2012-07-11 06:59:00 UTC</td>\n",
       "      <td>-1.216667</td>\n",
       "      <td>40.773175</td>\n",
       "      <td>0.000000</td>\n",
       "      <td>0.000000</td>\n",
       "      <td>1</td>\n",
       "    </tr>\n",
       "    <tr>\n",
       "      <th>37798</th>\n",
       "      <td>22.50</td>\n",
       "      <td>2013-08-28 12:11:00 UTC</td>\n",
       "      <td>-74.004465</td>\n",
       "      <td>40.741823</td>\n",
       "      <td>0.000000</td>\n",
       "      <td>0.000000</td>\n",
       "      <td>1</td>\n",
       "    </tr>\n",
       "    <tr>\n",
       "      <th>37888</th>\n",
       "      <td>6.50</td>\n",
       "      <td>2014-05-08 06:42:00 UTC</td>\n",
       "      <td>-73.974227</td>\n",
       "      <td>40.762507</td>\n",
       "      <td>0.000000</td>\n",
       "      <td>0.000000</td>\n",
       "      <td>1</td>\n",
       "    </tr>\n",
       "    <tr>\n",
       "      <th>38145</th>\n",
       "      <td>53.00</td>\n",
       "      <td>2014-09-11 07:12:42 UTC</td>\n",
       "      <td>-73.776675</td>\n",
       "      <td>40.645259</td>\n",
       "      <td>-73.967190</td>\n",
       "      <td>40.599669</td>\n",
       "      <td>1</td>\n",
       "    </tr>\n",
       "    <tr>\n",
       "      <th>38519</th>\n",
       "      <td>45.00</td>\n",
       "      <td>2013-02-10 00:16:00 UTC</td>\n",
       "      <td>-74.006657</td>\n",
       "      <td>40.744195</td>\n",
       "      <td>-73.998610</td>\n",
       "      <td>40.601965</td>\n",
       "      <td>5</td>\n",
       "    </tr>\n",
       "  </tbody>\n",
       "</table>\n",
       "<p>67 rows × 7 columns</p>\n",
       "</div>"
      ],
      "text/plain": [
       "       fare_amount          pickup_datetime  pickup_longitude  \\\n",
       "1260          5.70  2011-03-10 20:25:00 UTC        -73.973907   \n",
       "2283         45.00  2013-03-05 23:35:49 UTC        -73.786815   \n",
       "4278          7.00  2015-04-07 23:33:02 UTC        -73.972702   \n",
       "4291         45.00  2012-05-07 15:49:00 UTC        -74.031268   \n",
       "4567         10.10  2010-01-07 11:52:00 UTC        -73.989795   \n",
       "5044         52.90  2011-10-20 19:51:55 UTC        -73.982771   \n",
       "5795         37.50  2013-02-23 12:16:48 UTC        -73.776708   \n",
       "6384         33.70  2011-05-31 00:12:20 UTC        -73.988617   \n",
       "6971         58.00  2014-10-18 08:38:00 UTC        -73.946860   \n",
       "7014          4.50  2011-06-18 04:03:00 UTC        -73.988980   \n",
       "7368         42.00  2014-02-03 16:04:51 UTC        -73.788604   \n",
       "7635         25.30  2009-10-19 03:10:00 UTC        -74.102257   \n",
       "8347         42.50  2013-04-12 07:40:00 UTC        -73.784000   \n",
       "8552         54.61  2009-12-20 08:37:12 UTC        -73.985116   \n",
       "8647         21.50  2014-03-27 18:01:00 UTC        -74.001808   \n",
       "10000        56.50  2012-03-08 20:11:00 UTC        -74.000777   \n",
       "10458         2.50  2013-02-23 20:58:00 UTC        -73.979678   \n",
       "10488         5.30  2012-03-15 00:30:07 UTC        -73.978103   \n",
       "10672        18.00  2015-04-30 15:34:46 UTC        -73.979355   \n",
       "10898        37.30  2010-10-22 16:59:00 UTC        -73.790162   \n",
       "11488        51.70  2010-10-14 11:29:16 UTC        -73.997237   \n",
       "11964         7.70  2011-09-23 04:35:00 UTC        -74.089848   \n",
       "12228        16.50  2011-04-26 23:18:56 UTC        -73.993360   \n",
       "12398         4.50  2010-09-06 17:13:00 UTC        -73.980750   \n",
       "12705         2.50  2012-10-31 14:37:00 UTC        -73.929230   \n",
       "12983        57.33  2013-03-07 21:04:00 UTC        -73.958870   \n",
       "13506        37.70  2009-08-28 22:06:00 UTC        -73.790193   \n",
       "14197        48.00  2013-04-19 16:49:00 UTC        -73.870945   \n",
       "14536         4.10  2011-04-03 12:16:46 UTC        -73.982155   \n",
       "18388         4.10  2012-04-11 01:57:21 UTC        -73.997738   \n",
       "...            ...                      ...               ...   \n",
       "23737         2.50  2015-03-25 14:16:48 UTC        -73.963463   \n",
       "24519         7.70  2012-07-18 06:45:00 UTC        -73.800000   \n",
       "24647        26.10  2011-11-27 17:10:48 UTC        -73.978501   \n",
       "25109        36.50  2012-03-19 06:40:00 UTC        -73.781963   \n",
       "25344        43.00  2015-06-19 11:03:32 UTC        -73.776756   \n",
       "26994         4.50  2015-04-24 20:35:20 UTC        -73.962990   \n",
       "28809         2.50  2013-08-29 17:33:10 UTC        -74.000635   \n",
       "29547         4.50  2014-03-10 17:21:23 UTC        -73.959630   \n",
       "30069        55.50  2013-08-24 03:27:45 UTC        -73.921431   \n",
       "30563        69.24  2010-07-16 01:16:46 UTC        -73.992633   \n",
       "31262        42.50  2013-10-29 19:24:38 UTC        -73.790271   \n",
       "31521        30.50  2011-03-09 18:36:07 UTC        -73.786044   \n",
       "31595        46.00  2014-02-20 13:15:12 UTC        -73.781933   \n",
       "31823        52.00  2013-11-26 18:12:00 UTC        -74.005490   \n",
       "31836        13.00  2015-03-13 12:53:00 UTC        -73.989914   \n",
       "32350         6.50  2013-07-03 08:57:43 UTC        -73.964240   \n",
       "32382        29.30  2012-05-20 03:15:00 UTC        -74.001085   \n",
       "32799         2.50  2013-07-21 09:27:41 UTC        -73.973605   \n",
       "32870        10.00  2014-03-22 17:20:00 UTC        -73.978722   \n",
       "32916        14.50  2009-12-08 18:11:55 UTC        -73.989841   \n",
       "33053         5.00  2014-04-30 14:59:00 UTC        -73.982815   \n",
       "34503         3.00  2014-10-28 15:42:08 UTC        -73.980179   \n",
       "36250        15.70  2012-06-09 10:35:00 UTC          0.000000   \n",
       "36493         2.50  2012-08-04 03:14:00 UTC        -73.978055   \n",
       "37467        89.90  2012-12-24 12:23:00 UTC        -73.983757   \n",
       "37770         4.10  2012-07-11 06:59:00 UTC         -1.216667   \n",
       "37798        22.50  2013-08-28 12:11:00 UTC        -74.004465   \n",
       "37888         6.50  2014-05-08 06:42:00 UTC        -73.974227   \n",
       "38145        53.00  2014-09-11 07:12:42 UTC        -73.776675   \n",
       "38519        45.00  2013-02-10 00:16:00 UTC        -74.006657   \n",
       "\n",
       "       pickup_latitude  dropoff_longitude  dropoff_latitude  passenger_count  \n",
       "1260         40.754743           0.000000          0.000000                2  \n",
       "2283         40.641398         -73.968542         40.577815                2  \n",
       "4278         40.757423           0.000000          0.000000                1  \n",
       "4291         40.703843         -73.969337         40.551710                1  \n",
       "4567         40.715727         -73.996540         40.484335                1  \n",
       "5044         40.761852         -73.962296         40.590033                1  \n",
       "5795         40.645295         -73.937149         40.590188                2  \n",
       "6384         40.731455         -73.998338         40.597675                1  \n",
       "6971         40.780910         -73.900825         40.590317                1  \n",
       "7014         40.721697         -74.001073          0.728087                3  \n",
       "7368         40.641973         -73.961122         40.598020                1  \n",
       "7635         40.620580         -74.113213         40.582228                3  \n",
       "8347         40.648640         -73.949217         40.604415                1  \n",
       "8552         40.732566         -73.858382         40.574729                1  \n",
       "8647         40.750782           0.000000          0.000000                1  \n",
       "10000        40.728885         -74.138033         40.550097                5  \n",
       "10458        40.765962           0.000000          0.000000                1  \n",
       "10488        40.751798           0.000000          0.000000                1  \n",
       "10672        40.753902           0.000000          0.000000                1  \n",
       "10898        40.643745         -73.970812         40.588485                4  \n",
       "11488        40.766952         -73.943765         40.584596                2  \n",
       "11964        40.609495         -74.073173         40.602097                5  \n",
       "12228        40.721749         -73.977370         39.610604                2  \n",
       "12398        40.729825         -73.859060         40.574652                1  \n",
       "12705        40.744627           0.000000          0.000000                5  \n",
       "12983        40.760012           0.000000          0.000000                1  \n",
       "13506        40.643654         -73.962255         40.588240                4  \n",
       "14197        40.773700           0.000000          0.000000                1  \n",
       "14536        40.775187         -73.976399         39.610030                1  \n",
       "18388        40.714043           0.000000          0.000000                1  \n",
       "...                ...                ...               ...              ...  \n",
       "23737        40.803772           0.000000          0.000000                1  \n",
       "24519        40.698570           0.000000          0.000000                1  \n",
       "24647        40.684345         -73.952070         40.586085                1  \n",
       "25109        40.644822         -73.969648         40.597245                5  \n",
       "25344        40.645370         -73.953934         40.601742                5  \n",
       "26994        40.757809           0.000000          0.000000                6  \n",
       "28809        40.730677           0.000000          0.000000                1  \n",
       "29547        40.707350           0.000000          0.000000                4  \n",
       "30069        40.766960         -73.955358         40.582127                1  \n",
       "30563        40.725429         -74.203498         40.529306                1  \n",
       "31262        40.644033         -73.960624         40.603496                1  \n",
       "31521        40.641631         -73.943341         40.605059                1  \n",
       "31595        40.644532         -73.962393         40.593656                1  \n",
       "31823        40.739532           0.000000          0.000000                1  \n",
       "31836        40.741550           0.000000          0.000000                1  \n",
       "32350        40.756653           0.000000          0.000000                1  \n",
       "32382        40.731635         -73.980062         40.598557                5  \n",
       "32799        40.743763           0.000000          0.000000                1  \n",
       "32870        40.736407           0.000000          0.000000                1  \n",
       "32916        40.757526           0.000000          0.000000                1  \n",
       "33053        40.748482           0.000000          0.000000                1  \n",
       "34503        40.745820           0.000000          0.000000                1  \n",
       "36250        40.756762           0.000000          0.000000                1  \n",
       "36493        40.754750           0.000000          0.000000                1  \n",
       "37467        40.761047         -74.154890         40.564610                5  \n",
       "37770        40.773175           0.000000          0.000000                1  \n",
       "37798        40.741823           0.000000          0.000000                1  \n",
       "37888        40.762507           0.000000          0.000000                1  \n",
       "38145        40.645259         -73.967190         40.599669                1  \n",
       "38519        40.744195         -73.998610         40.601965                5  \n",
       "\n",
       "[67 rows x 7 columns]"
      ]
     },
     "execution_count": 1067,
     "metadata": {},
     "output_type": "execute_result"
    }
   ],
   "source": [
    "data[(data.dropoff_latitude< lat_min) | (data.dropoff_latitude>lat_max)]"
   ]
  },
  {
   "cell_type": "code",
   "execution_count": 1068,
   "metadata": {
    "_uuid": "d4b7f99eaac0166f9e9e89dbd3eaa9c934b5db00"
   },
   "outputs": [],
   "source": [
    "\n",
    "data.drop(data[(data.dropoff_latitude<lat_min) | (data.dropoff_latitude>lat_max)].index,axis=0,inplace=True)"
   ]
  },
  {
   "cell_type": "markdown",
   "metadata": {
    "_uuid": "95ab7f5ae26eb3a6e195a51ca80698c8417dc86a"
   },
   "source": [
    "**pickup_longitude and dropoff_longitude must be between lon_min and lon_max"
   ]
  },
  {
   "cell_type": "code",
   "execution_count": 1069,
   "metadata": {
    "_uuid": "46bfc32364d5be517666e39b4aef228a9c0c4c54"
   },
   "outputs": [
    {
     "name": "stdout",
     "output_type": "stream",
     "text": [
      "38995   -73.952275\n",
      "38996   -73.978608\n",
      "38997   -73.971372\n",
      "38998   -73.979176\n",
      "38999   -73.982186\n",
      "Name: pickup_longitude, dtype: float64\n",
      "38995   -73.968233\n",
      "38996   -73.971508\n",
      "38997   -73.958416\n",
      "38998   -73.965011\n",
      "38999   -73.970512\n",
      "Name: dropoff_longitude, dtype: float64\n"
     ]
    }
   ],
   "source": [
    "print(data.pickup_longitude.tail(5))\n",
    "print(data.dropoff_longitude.tail(5))"
   ]
  },
  {
   "cell_type": "code",
   "execution_count": 1070,
   "metadata": {
    "_uuid": "837578bb5f0b25dbc3a5855cb9a55bd8601953fa"
   },
   "outputs": [
    {
     "data": {
      "text/plain": [
       "0    73.844311\n",
       "1    74.016048\n",
       "2    73.982738\n",
       "3    73.987130\n",
       "4    73.968095\n",
       "Name: pickup_longitude, dtype: float64"
      ]
     },
     "execution_count": 1070,
     "metadata": {},
     "output_type": "execute_result"
    }
   ],
   "source": [
    "data.pickup_longitude.abs().head()"
   ]
  },
  {
   "cell_type": "code",
   "execution_count": 1071,
   "metadata": {
    "_uuid": "a382c66acf309a39747bea8a27955a8dea8306c3"
   },
   "outputs": [
    {
     "data": {
      "text/html": [
       "<div>\n",
       "<style scoped>\n",
       "    .dataframe tbody tr th:only-of-type {\n",
       "        vertical-align: middle;\n",
       "    }\n",
       "\n",
       "    .dataframe tbody tr th {\n",
       "        vertical-align: top;\n",
       "    }\n",
       "\n",
       "    .dataframe thead th {\n",
       "        text-align: right;\n",
       "    }\n",
       "</style>\n",
       "<table border=\"1\" class=\"dataframe\">\n",
       "  <thead>\n",
       "    <tr style=\"text-align: right;\">\n",
       "      <th></th>\n",
       "      <th>fare_amount</th>\n",
       "      <th>pickup_datetime</th>\n",
       "      <th>pickup_longitude</th>\n",
       "      <th>pickup_latitude</th>\n",
       "      <th>dropoff_longitude</th>\n",
       "      <th>dropoff_latitude</th>\n",
       "      <th>passenger_count</th>\n",
       "    </tr>\n",
       "  </thead>\n",
       "  <tbody>\n",
       "    <tr>\n",
       "      <th>649</th>\n",
       "      <td>66.30</td>\n",
       "      <td>2009-09-19 10:34:41 UTC</td>\n",
       "      <td>-74.438233</td>\n",
       "      <td>40.993260</td>\n",
       "      <td>-74.185996</td>\n",
       "      <td>40.693874</td>\n",
       "      <td>2</td>\n",
       "    </tr>\n",
       "    <tr>\n",
       "      <th>1684</th>\n",
       "      <td>2.50</td>\n",
       "      <td>2009-05-02 19:01:01 UTC</td>\n",
       "      <td>-73.137393</td>\n",
       "      <td>41.366138</td>\n",
       "      <td>-73.996510</td>\n",
       "      <td>40.745320</td>\n",
       "      <td>2</td>\n",
       "    </tr>\n",
       "    <tr>\n",
       "      <th>3075</th>\n",
       "      <td>6.90</td>\n",
       "      <td>2009-01-06 10:53:36 UTC</td>\n",
       "      <td>-73.137393</td>\n",
       "      <td>41.366138</td>\n",
       "      <td>-73.974598</td>\n",
       "      <td>40.751311</td>\n",
       "      <td>1</td>\n",
       "    </tr>\n",
       "    <tr>\n",
       "      <th>4487</th>\n",
       "      <td>4.90</td>\n",
       "      <td>2009-08-26 07:43:16 UTC</td>\n",
       "      <td>-73.137393</td>\n",
       "      <td>41.366138</td>\n",
       "      <td>-73.957685</td>\n",
       "      <td>40.765644</td>\n",
       "      <td>1</td>\n",
       "    </tr>\n",
       "    <tr>\n",
       "      <th>5648</th>\n",
       "      <td>7.70</td>\n",
       "      <td>2010-04-28 19:06:13 UTC</td>\n",
       "      <td>-73.137393</td>\n",
       "      <td>41.366138</td>\n",
       "      <td>-73.137393</td>\n",
       "      <td>41.366138</td>\n",
       "      <td>1</td>\n",
       "    </tr>\n",
       "    <tr>\n",
       "      <th>5663</th>\n",
       "      <td>49.15</td>\n",
       "      <td>2009-02-25 07:05:05 UTC</td>\n",
       "      <td>-73.137393</td>\n",
       "      <td>41.366138</td>\n",
       "      <td>-74.000940</td>\n",
       "      <td>40.731723</td>\n",
       "      <td>1</td>\n",
       "    </tr>\n",
       "    <tr>\n",
       "      <th>6416</th>\n",
       "      <td>6.10</td>\n",
       "      <td>2010-05-28 19:26:49 UTC</td>\n",
       "      <td>-73.137393</td>\n",
       "      <td>41.366138</td>\n",
       "      <td>-73.137393</td>\n",
       "      <td>41.366138</td>\n",
       "      <td>1</td>\n",
       "    </tr>\n",
       "    <tr>\n",
       "      <th>7043</th>\n",
       "      <td>3.30</td>\n",
       "      <td>2009-05-06 10:22:30 UTC</td>\n",
       "      <td>-73.137393</td>\n",
       "      <td>41.366138</td>\n",
       "      <td>-73.137393</td>\n",
       "      <td>41.366138</td>\n",
       "      <td>1</td>\n",
       "    </tr>\n",
       "    <tr>\n",
       "      <th>9808</th>\n",
       "      <td>6.90</td>\n",
       "      <td>2009-08-13 23:15:28 UTC</td>\n",
       "      <td>-73.137393</td>\n",
       "      <td>41.366138</td>\n",
       "      <td>-73.952331</td>\n",
       "      <td>40.786380</td>\n",
       "      <td>1</td>\n",
       "    </tr>\n",
       "    <tr>\n",
       "      <th>10688</th>\n",
       "      <td>4.50</td>\n",
       "      <td>2009-08-04 14:51:10 UTC</td>\n",
       "      <td>-73.137393</td>\n",
       "      <td>41.366138</td>\n",
       "      <td>-73.137393</td>\n",
       "      <td>41.366138</td>\n",
       "      <td>1</td>\n",
       "    </tr>\n",
       "    <tr>\n",
       "      <th>14367</th>\n",
       "      <td>14.10</td>\n",
       "      <td>2010-05-28 13:00:49 UTC</td>\n",
       "      <td>-73.137393</td>\n",
       "      <td>41.366138</td>\n",
       "      <td>-73.137393</td>\n",
       "      <td>41.366138</td>\n",
       "      <td>1</td>\n",
       "    </tr>\n",
       "    <tr>\n",
       "      <th>16890</th>\n",
       "      <td>17.70</td>\n",
       "      <td>2010-05-05 09:43:32 UTC</td>\n",
       "      <td>-73.137393</td>\n",
       "      <td>41.366138</td>\n",
       "      <td>-73.137393</td>\n",
       "      <td>41.366138</td>\n",
       "      <td>1</td>\n",
       "    </tr>\n",
       "    <tr>\n",
       "      <th>17081</th>\n",
       "      <td>33.47</td>\n",
       "      <td>2009-08-21 13:51:57 UTC</td>\n",
       "      <td>-73.137393</td>\n",
       "      <td>41.366138</td>\n",
       "      <td>-73.865796</td>\n",
       "      <td>40.770828</td>\n",
       "      <td>2</td>\n",
       "    </tr>\n",
       "    <tr>\n",
       "      <th>17825</th>\n",
       "      <td>16.50</td>\n",
       "      <td>2012-06-05 09:11:00 UTC</td>\n",
       "      <td>0.000000</td>\n",
       "      <td>40.744977</td>\n",
       "      <td>-73.988625</td>\n",
       "      <td>40.737310</td>\n",
       "      <td>1</td>\n",
       "    </tr>\n",
       "    <tr>\n",
       "      <th>22804</th>\n",
       "      <td>35.05</td>\n",
       "      <td>2009-07-10 11:57:05 UTC</td>\n",
       "      <td>-73.137393</td>\n",
       "      <td>41.366138</td>\n",
       "      <td>-73.871245</td>\n",
       "      <td>40.774182</td>\n",
       "      <td>2</td>\n",
       "    </tr>\n",
       "    <tr>\n",
       "      <th>24111</th>\n",
       "      <td>13.70</td>\n",
       "      <td>2011-03-20 13:15:52 UTC</td>\n",
       "      <td>-75.414728</td>\n",
       "      <td>40.729875</td>\n",
       "      <td>-75.354559</td>\n",
       "      <td>40.682967</td>\n",
       "      <td>2</td>\n",
       "    </tr>\n",
       "    <tr>\n",
       "      <th>25818</th>\n",
       "      <td>6.90</td>\n",
       "      <td>2012-06-02 09:06:00 UTC</td>\n",
       "      <td>-74.700000</td>\n",
       "      <td>40.706250</td>\n",
       "      <td>-74.014482</td>\n",
       "      <td>40.714747</td>\n",
       "      <td>3</td>\n",
       "    </tr>\n",
       "    <tr>\n",
       "      <th>29007</th>\n",
       "      <td>50.00</td>\n",
       "      <td>2009-03-24 11:49:20 UTC</td>\n",
       "      <td>-73.137393</td>\n",
       "      <td>41.366138</td>\n",
       "      <td>-74.011292</td>\n",
       "      <td>40.702179</td>\n",
       "      <td>1</td>\n",
       "    </tr>\n",
       "    <tr>\n",
       "      <th>30746</th>\n",
       "      <td>5.30</td>\n",
       "      <td>2010-05-31 22:25:00 UTC</td>\n",
       "      <td>-74.312932</td>\n",
       "      <td>40.919507</td>\n",
       "      <td>-74.308235</td>\n",
       "      <td>40.919385</td>\n",
       "      <td>2</td>\n",
       "    </tr>\n",
       "    <tr>\n",
       "      <th>30979</th>\n",
       "      <td>17.30</td>\n",
       "      <td>2010-10-16 23:57:00 UTC</td>\n",
       "      <td>-74.711648</td>\n",
       "      <td>40.747667</td>\n",
       "      <td>-74.755480</td>\n",
       "      <td>40.669957</td>\n",
       "      <td>3</td>\n",
       "    </tr>\n",
       "  </tbody>\n",
       "</table>\n",
       "</div>"
      ],
      "text/plain": [
       "       fare_amount          pickup_datetime  pickup_longitude  \\\n",
       "649          66.30  2009-09-19 10:34:41 UTC        -74.438233   \n",
       "1684          2.50  2009-05-02 19:01:01 UTC        -73.137393   \n",
       "3075          6.90  2009-01-06 10:53:36 UTC        -73.137393   \n",
       "4487          4.90  2009-08-26 07:43:16 UTC        -73.137393   \n",
       "5648          7.70  2010-04-28 19:06:13 UTC        -73.137393   \n",
       "5663         49.15  2009-02-25 07:05:05 UTC        -73.137393   \n",
       "6416          6.10  2010-05-28 19:26:49 UTC        -73.137393   \n",
       "7043          3.30  2009-05-06 10:22:30 UTC        -73.137393   \n",
       "9808          6.90  2009-08-13 23:15:28 UTC        -73.137393   \n",
       "10688         4.50  2009-08-04 14:51:10 UTC        -73.137393   \n",
       "14367        14.10  2010-05-28 13:00:49 UTC        -73.137393   \n",
       "16890        17.70  2010-05-05 09:43:32 UTC        -73.137393   \n",
       "17081        33.47  2009-08-21 13:51:57 UTC        -73.137393   \n",
       "17825        16.50  2012-06-05 09:11:00 UTC          0.000000   \n",
       "22804        35.05  2009-07-10 11:57:05 UTC        -73.137393   \n",
       "24111        13.70  2011-03-20 13:15:52 UTC        -75.414728   \n",
       "25818         6.90  2012-06-02 09:06:00 UTC        -74.700000   \n",
       "29007        50.00  2009-03-24 11:49:20 UTC        -73.137393   \n",
       "30746         5.30  2010-05-31 22:25:00 UTC        -74.312932   \n",
       "30979        17.30  2010-10-16 23:57:00 UTC        -74.711648   \n",
       "\n",
       "       pickup_latitude  dropoff_longitude  dropoff_latitude  passenger_count  \n",
       "649          40.993260         -74.185996         40.693874                2  \n",
       "1684         41.366138         -73.996510         40.745320                2  \n",
       "3075         41.366138         -73.974598         40.751311                1  \n",
       "4487         41.366138         -73.957685         40.765644                1  \n",
       "5648         41.366138         -73.137393         41.366138                1  \n",
       "5663         41.366138         -74.000940         40.731723                1  \n",
       "6416         41.366138         -73.137393         41.366138                1  \n",
       "7043         41.366138         -73.137393         41.366138                1  \n",
       "9808         41.366138         -73.952331         40.786380                1  \n",
       "10688        41.366138         -73.137393         41.366138                1  \n",
       "14367        41.366138         -73.137393         41.366138                1  \n",
       "16890        41.366138         -73.137393         41.366138                1  \n",
       "17081        41.366138         -73.865796         40.770828                2  \n",
       "17825        40.744977         -73.988625         40.737310                1  \n",
       "22804        41.366138         -73.871245         40.774182                2  \n",
       "24111        40.729875         -75.354559         40.682967                2  \n",
       "25818        40.706250         -74.014482         40.714747                3  \n",
       "29007        41.366138         -74.011292         40.702179                1  \n",
       "30746        40.919507         -74.308235         40.919385                2  \n",
       "30979        40.747667         -74.755480         40.669957                3  "
      ]
     },
     "execution_count": 1071,
     "metadata": {},
     "output_type": "execute_result"
    }
   ],
   "source": [
    "data[(data.pickup_longitude<lon_min) | (data.pickup_longitude>lon_max)]"
   ]
  },
  {
   "cell_type": "code",
   "execution_count": 1072,
   "metadata": {
    "_uuid": "8b1a5664927cbc2a0e7dfb615e06b8ad7b0a8fd7"
   },
   "outputs": [],
   "source": [
    "data.drop(data[(data.pickup_longitude<lon_min) | (data.pickup_longitude>lon_max)].index,axis=0,inplace=True)"
   ]
  },
  {
   "cell_type": "code",
   "execution_count": 1073,
   "metadata": {
    "_uuid": "27466b55b55d4ebf3488213fc72bbbe9a5362af7"
   },
   "outputs": [
    {
     "data": {
      "text/html": [
       "<div>\n",
       "<style scoped>\n",
       "    .dataframe tbody tr th:only-of-type {\n",
       "        vertical-align: middle;\n",
       "    }\n",
       "\n",
       "    .dataframe tbody tr th {\n",
       "        vertical-align: top;\n",
       "    }\n",
       "\n",
       "    .dataframe thead th {\n",
       "        text-align: right;\n",
       "    }\n",
       "</style>\n",
       "<table border=\"1\" class=\"dataframe\">\n",
       "  <thead>\n",
       "    <tr style=\"text-align: right;\">\n",
       "      <th></th>\n",
       "      <th>fare_amount</th>\n",
       "      <th>pickup_datetime</th>\n",
       "      <th>pickup_longitude</th>\n",
       "      <th>pickup_latitude</th>\n",
       "      <th>dropoff_longitude</th>\n",
       "      <th>dropoff_latitude</th>\n",
       "      <th>passenger_count</th>\n",
       "    </tr>\n",
       "  </thead>\n",
       "  <tbody>\n",
       "    <tr>\n",
       "      <th>2280</th>\n",
       "      <td>8.9</td>\n",
       "      <td>2011-08-29 08:24:00 UTC</td>\n",
       "      <td>-73.936667</td>\n",
       "      <td>40.757815</td>\n",
       "      <td>0.000000</td>\n",
       "      <td>40.757815</td>\n",
       "      <td>1</td>\n",
       "    </tr>\n",
       "    <tr>\n",
       "      <th>5864</th>\n",
       "      <td>8.5</td>\n",
       "      <td>2012-03-04 01:35:00 UTC</td>\n",
       "      <td>-73.995030</td>\n",
       "      <td>40.744945</td>\n",
       "      <td>-7.986640</td>\n",
       "      <td>40.729937</td>\n",
       "      <td>1</td>\n",
       "    </tr>\n",
       "    <tr>\n",
       "      <th>7401</th>\n",
       "      <td>4.5</td>\n",
       "      <td>2009-07-16 09:41:26 UTC</td>\n",
       "      <td>-73.900571</td>\n",
       "      <td>40.764047</td>\n",
       "      <td>-73.137393</td>\n",
       "      <td>41.366138</td>\n",
       "      <td>1</td>\n",
       "    </tr>\n",
       "    <tr>\n",
       "      <th>9899</th>\n",
       "      <td>7.7</td>\n",
       "      <td>2009-08-12 19:04:53 UTC</td>\n",
       "      <td>-73.974361</td>\n",
       "      <td>40.755168</td>\n",
       "      <td>-73.137393</td>\n",
       "      <td>41.366138</td>\n",
       "      <td>1</td>\n",
       "    </tr>\n",
       "    <tr>\n",
       "      <th>15749</th>\n",
       "      <td>10.9</td>\n",
       "      <td>2012-05-12 17:58:00 UTC</td>\n",
       "      <td>-73.967183</td>\n",
       "      <td>40.772403</td>\n",
       "      <td>0.000000</td>\n",
       "      <td>40.740677</td>\n",
       "      <td>1</td>\n",
       "    </tr>\n",
       "    <tr>\n",
       "      <th>21186</th>\n",
       "      <td>61.9</td>\n",
       "      <td>2009-07-24 17:51:29 UTC</td>\n",
       "      <td>-73.966378</td>\n",
       "      <td>40.757823</td>\n",
       "      <td>-74.217028</td>\n",
       "      <td>40.647827</td>\n",
       "      <td>1</td>\n",
       "    </tr>\n",
       "    <tr>\n",
       "      <th>24958</th>\n",
       "      <td>10.9</td>\n",
       "      <td>2012-01-02 18:32:00 UTC</td>\n",
       "      <td>-73.991677</td>\n",
       "      <td>40.735017</td>\n",
       "      <td>-3.959442</td>\n",
       "      <td>40.769480</td>\n",
       "      <td>1</td>\n",
       "    </tr>\n",
       "    <tr>\n",
       "      <th>27778</th>\n",
       "      <td>61.5</td>\n",
       "      <td>2009-05-12 21:24:00 UTC</td>\n",
       "      <td>-73.976852</td>\n",
       "      <td>40.750055</td>\n",
       "      <td>-74.187173</td>\n",
       "      <td>40.690030</td>\n",
       "      <td>5</td>\n",
       "    </tr>\n",
       "    <tr>\n",
       "      <th>34448</th>\n",
       "      <td>11.7</td>\n",
       "      <td>2012-03-18 21:23:00 UTC</td>\n",
       "      <td>-73.993487</td>\n",
       "      <td>40.757247</td>\n",
       "      <td>-0.116667</td>\n",
       "      <td>40.719212</td>\n",
       "      <td>2</td>\n",
       "    </tr>\n",
       "    <tr>\n",
       "      <th>36910</th>\n",
       "      <td>6.1</td>\n",
       "      <td>2012-03-15 16:56:00 UTC</td>\n",
       "      <td>-73.977862</td>\n",
       "      <td>40.773735</td>\n",
       "      <td>-0.116667</td>\n",
       "      <td>40.765042</td>\n",
       "      <td>2</td>\n",
       "    </tr>\n",
       "  </tbody>\n",
       "</table>\n",
       "</div>"
      ],
      "text/plain": [
       "       fare_amount          pickup_datetime  pickup_longitude  \\\n",
       "2280           8.9  2011-08-29 08:24:00 UTC        -73.936667   \n",
       "5864           8.5  2012-03-04 01:35:00 UTC        -73.995030   \n",
       "7401           4.5  2009-07-16 09:41:26 UTC        -73.900571   \n",
       "9899           7.7  2009-08-12 19:04:53 UTC        -73.974361   \n",
       "15749         10.9  2012-05-12 17:58:00 UTC        -73.967183   \n",
       "21186         61.9  2009-07-24 17:51:29 UTC        -73.966378   \n",
       "24958         10.9  2012-01-02 18:32:00 UTC        -73.991677   \n",
       "27778         61.5  2009-05-12 21:24:00 UTC        -73.976852   \n",
       "34448         11.7  2012-03-18 21:23:00 UTC        -73.993487   \n",
       "36910          6.1  2012-03-15 16:56:00 UTC        -73.977862   \n",
       "\n",
       "       pickup_latitude  dropoff_longitude  dropoff_latitude  passenger_count  \n",
       "2280         40.757815           0.000000         40.757815                1  \n",
       "5864         40.744945          -7.986640         40.729937                1  \n",
       "7401         40.764047         -73.137393         41.366138                1  \n",
       "9899         40.755168         -73.137393         41.366138                1  \n",
       "15749        40.772403           0.000000         40.740677                1  \n",
       "21186        40.757823         -74.217028         40.647827                1  \n",
       "24958        40.735017          -3.959442         40.769480                1  \n",
       "27778        40.750055         -74.187173         40.690030                5  \n",
       "34448        40.757247          -0.116667         40.719212                2  \n",
       "36910        40.773735          -0.116667         40.765042                2  "
      ]
     },
     "execution_count": 1073,
     "metadata": {},
     "output_type": "execute_result"
    }
   ],
   "source": [
    "# dropoff\n",
    "data[(data.dropoff_longitude<lon_min) | (data.dropoff_longitude>lon_max)]"
   ]
  },
  {
   "cell_type": "code",
   "execution_count": 1074,
   "metadata": {
    "_uuid": "2d4f38db74f09d88d470aacc181894db262575b6"
   },
   "outputs": [],
   "source": [
    "data.drop(data[(data.dropoff_longitude<lon_min) | (data.dropoff_longitude>lon_max)].index,axis=0,inplace=True)"
   ]
  },
  {
   "cell_type": "markdown",
   "metadata": {
    "_uuid": "2f8d19d35b5ea0e620758e5ddeb57ef6b8f1d4ad"
   },
   "source": [
    "\n",
    "let's see NaN Values now from both dropoff_longitude and dropoff_latitude ."
   ]
  },
  {
   "cell_type": "code",
   "execution_count": 1075,
   "metadata": {
    "_uuid": "a822b173d5815db87febaf18e4124d26e1d2f64b"
   },
   "outputs": [
    {
     "data": {
      "text/plain": [
       "fare_amount          0\n",
       "pickup_datetime      0\n",
       "pickup_longitude     0\n",
       "pickup_latitude      0\n",
       "dropoff_longitude    0\n",
       "dropoff_latitude     0\n",
       "passenger_count      0\n",
       "dtype: int64"
      ]
     },
     "execution_count": 1075,
     "metadata": {},
     "output_type": "execute_result"
    }
   ],
   "source": [
    "data.isnull().sum()"
   ]
  },
  {
   "cell_type": "code",
   "execution_count": 1076,
   "metadata": {
    "_uuid": "add136ef7996e158122394022218d91e6bef0f4f"
   },
   "outputs": [
    {
     "data": {
      "text/html": [
       "<div>\n",
       "<style scoped>\n",
       "    .dataframe tbody tr th:only-of-type {\n",
       "        vertical-align: middle;\n",
       "    }\n",
       "\n",
       "    .dataframe tbody tr th {\n",
       "        vertical-align: top;\n",
       "    }\n",
       "\n",
       "    .dataframe thead th {\n",
       "        text-align: right;\n",
       "    }\n",
       "</style>\n",
       "<table border=\"1\" class=\"dataframe\">\n",
       "  <thead>\n",
       "    <tr style=\"text-align: right;\">\n",
       "      <th></th>\n",
       "      <th>fare_amount</th>\n",
       "      <th>pickup_datetime</th>\n",
       "      <th>pickup_longitude</th>\n",
       "      <th>pickup_latitude</th>\n",
       "      <th>dropoff_longitude</th>\n",
       "      <th>dropoff_latitude</th>\n",
       "      <th>passenger_count</th>\n",
       "    </tr>\n",
       "  </thead>\n",
       "  <tbody>\n",
       "  </tbody>\n",
       "</table>\n",
       "</div>"
      ],
      "text/plain": [
       "Empty DataFrame\n",
       "Columns: [fare_amount, pickup_datetime, pickup_longitude, pickup_latitude, dropoff_longitude, dropoff_latitude, passenger_count]\n",
       "Index: []"
      ]
     },
     "execution_count": 1076,
     "metadata": {},
     "output_type": "execute_result"
    }
   ],
   "source": [
    "data[data.dropoff_longitude.isnull()==True].head(1)"
   ]
  },
  {
   "cell_type": "code",
   "execution_count": 1077,
   "metadata": {
    "_uuid": "867e318df2a3d01756c328deae572ef0237d0ab7"
   },
   "outputs": [],
   "source": [
    "data.drop(data[data.dropoff_longitude.isnull()==True].index,axis=0,inplace=True)"
   ]
  },
  {
   "cell_type": "code",
   "execution_count": 1078,
   "metadata": {
    "_uuid": "b5ea7cf87aa3b50e55fd7250499943aee6a0fe88"
   },
   "outputs": [
    {
     "data": {
      "text/plain": [
       "fare_amount          0\n",
       "pickup_datetime      0\n",
       "pickup_longitude     0\n",
       "pickup_latitude      0\n",
       "dropoff_longitude    0\n",
       "dropoff_latitude     0\n",
       "passenger_count      0\n",
       "dtype: int64"
      ]
     },
     "execution_count": 1078,
     "metadata": {},
     "output_type": "execute_result"
    }
   ],
   "source": [
    "data.isnull().sum()"
   ]
  },
  {
   "cell_type": "markdown",
   "metadata": {
    "_uuid": "208fd79c6ac2a6ea833395cb1c8dd2d6158c3326"
   },
   "source": [
    "\n"
   ]
  },
  {
   "cell_type": "markdown",
   "metadata": {
    "_uuid": "3066aa82f9292f02f17fdab09e017e183e8eafc3"
   },
   "source": [
    "**passenger_count** column"
   ]
  },
  {
   "cell_type": "code",
   "execution_count": 1079,
   "metadata": {
    "_uuid": "852e9f2da2d488b17dfd64123e86e009d2ff25c5"
   },
   "outputs": [
    {
     "data": {
      "text/html": [
       "<div>\n",
       "<style scoped>\n",
       "    .dataframe tbody tr th:only-of-type {\n",
       "        vertical-align: middle;\n",
       "    }\n",
       "\n",
       "    .dataframe tbody tr th {\n",
       "        vertical-align: top;\n",
       "    }\n",
       "\n",
       "    .dataframe thead th {\n",
       "        text-align: right;\n",
       "    }\n",
       "</style>\n",
       "<table border=\"1\" class=\"dataframe\">\n",
       "  <thead>\n",
       "    <tr style=\"text-align: right;\">\n",
       "      <th></th>\n",
       "      <th>fare_amount</th>\n",
       "      <th>pickup_longitude</th>\n",
       "      <th>pickup_latitude</th>\n",
       "      <th>dropoff_longitude</th>\n",
       "      <th>dropoff_latitude</th>\n",
       "      <th>passenger_count</th>\n",
       "    </tr>\n",
       "  </thead>\n",
       "  <tbody>\n",
       "    <tr>\n",
       "      <th>count</th>\n",
       "      <td>38109.000000</td>\n",
       "      <td>38109.000000</td>\n",
       "      <td>38109.000000</td>\n",
       "      <td>38109.000000</td>\n",
       "      <td>38109.000000</td>\n",
       "      <td>38109.000000</td>\n",
       "    </tr>\n",
       "    <tr>\n",
       "      <th>mean</th>\n",
       "      <td>11.313958</td>\n",
       "      <td>-73.975377</td>\n",
       "      <td>40.751027</td>\n",
       "      <td>-73.974159</td>\n",
       "      <td>40.751536</td>\n",
       "      <td>1.665381</td>\n",
       "    </tr>\n",
       "    <tr>\n",
       "      <th>std</th>\n",
       "      <td>9.511404</td>\n",
       "      <td>0.034792</td>\n",
       "      <td>0.027131</td>\n",
       "      <td>0.035011</td>\n",
       "      <td>0.030908</td>\n",
       "      <td>1.285715</td>\n",
       "    </tr>\n",
       "    <tr>\n",
       "      <th>min</th>\n",
       "      <td>0.000000</td>\n",
       "      <td>-74.181602</td>\n",
       "      <td>40.614803</td>\n",
       "      <td>-74.186090</td>\n",
       "      <td>40.605535</td>\n",
       "      <td>0.000000</td>\n",
       "    </tr>\n",
       "    <tr>\n",
       "      <th>25%</th>\n",
       "      <td>6.000000</td>\n",
       "      <td>-73.992293</td>\n",
       "      <td>40.736564</td>\n",
       "      <td>-73.991362</td>\n",
       "      <td>40.735913</td>\n",
       "      <td>1.000000</td>\n",
       "    </tr>\n",
       "    <tr>\n",
       "      <th>50%</th>\n",
       "      <td>8.500000</td>\n",
       "      <td>-73.982060</td>\n",
       "      <td>40.753462</td>\n",
       "      <td>-73.980629</td>\n",
       "      <td>40.754093</td>\n",
       "      <td>1.000000</td>\n",
       "    </tr>\n",
       "    <tr>\n",
       "      <th>75%</th>\n",
       "      <td>12.500000</td>\n",
       "      <td>-73.968355</td>\n",
       "      <td>40.767747</td>\n",
       "      <td>-73.965588</td>\n",
       "      <td>40.768465</td>\n",
       "      <td>2.000000</td>\n",
       "    </tr>\n",
       "    <tr>\n",
       "      <th>max</th>\n",
       "      <td>200.000000</td>\n",
       "      <td>-73.416169</td>\n",
       "      <td>41.391042</td>\n",
       "      <td>-73.416169</td>\n",
       "      <td>41.391042</td>\n",
       "      <td>6.000000</td>\n",
       "    </tr>\n",
       "  </tbody>\n",
       "</table>\n",
       "</div>"
      ],
      "text/plain": [
       "        fare_amount  pickup_longitude  pickup_latitude  dropoff_longitude  \\\n",
       "count  38109.000000      38109.000000     38109.000000       38109.000000   \n",
       "mean      11.313958        -73.975377        40.751027         -73.974159   \n",
       "std        9.511404          0.034792         0.027131           0.035011   \n",
       "min        0.000000        -74.181602        40.614803         -74.186090   \n",
       "25%        6.000000        -73.992293        40.736564         -73.991362   \n",
       "50%        8.500000        -73.982060        40.753462         -73.980629   \n",
       "75%       12.500000        -73.968355        40.767747         -73.965588   \n",
       "max      200.000000        -73.416169        41.391042         -73.416169   \n",
       "\n",
       "       dropoff_latitude  passenger_count  \n",
       "count      38109.000000     38109.000000  \n",
       "mean          40.751536         1.665381  \n",
       "std            0.030908         1.285715  \n",
       "min           40.605535         0.000000  \n",
       "25%           40.735913         1.000000  \n",
       "50%           40.754093         1.000000  \n",
       "75%           40.768465         2.000000  \n",
       "max           41.391042         6.000000  "
      ]
     },
     "execution_count": 1079,
     "metadata": {},
     "output_type": "execute_result"
    }
   ],
   "source": [
    "data.describe()"
   ]
  },
  {
   "cell_type": "markdown",
   "metadata": {
    "_uuid": "caff316a36735e93f49e360ea1083498c413dc39"
   },
   "source": [
    "\n",
    "Outliers :\n",
    "Here we can see min passenger_count : 0.000000e+00 =0 and max of passenger_count : 2.080000e+02\n",
    " = 208 (Outlier). "
   ]
  },
  {
   "cell_type": "code",
   "execution_count": 1080,
   "metadata": {
    "_uuid": "5da00dc32f11a179633578205b864a3536be61c1"
   },
   "outputs": [
    {
     "data": {
      "image/png": "[encoded data removed]",
      "text/plain": [
       "<Figure size 432x288 with 1 Axes>"
      ]
     },
     "metadata": {
      "needs_background": "light"
     },
     "output_type": "display_data"
    }
   ],
   "source": [
    "plt.scatter(x=data.passenger_count,y=data.index)\n",
    "plt.ylabel('Index')\n",
    "plt.xlabel('passenger_count')\n",
    "plt.show()"
   ]
  },
  {
   "cell_type": "code",
   "execution_count": 1081,
   "metadata": {
    "_uuid": "92e2f8f999cd05a5ee26f4ff6a4946a1bb2e58d9"
   },
   "outputs": [
    {
     "data": {
      "text/plain": [
       "130"
      ]
     },
     "execution_count": 1081,
     "metadata": {},
     "output_type": "execute_result"
    }
   ],
   "source": [
    "data['passenger_count'][data.passenger_count==0].count()"
   ]
  },
  {
   "cell_type": "code",
   "execution_count": 1082,
   "metadata": {
    "_uuid": "78a37a2533ff0e38ead49428b5546239ff40547d"
   },
   "outputs": [
    {
     "name": "stdout",
     "output_type": "stream",
     "text": [
      "(38109, 7)\n",
      "(37979, 7)\n"
     ]
    }
   ],
   "source": [
    "print(data.shape)\n",
    "data.drop(data[data.passenger_count==0].index,axis=0,inplace=True)\n",
    "print(data.shape)"
   ]
  },
  {
   "cell_type": "markdown",
   "metadata": {
    "_uuid": "4cfcd26af1e9bf0078cb0bf9a83f4c32b0295b47"
   },
   "source": [
    "Now,let's drop Outliers"
   ]
  },
  {
   "cell_type": "code",
   "execution_count": 1083,
   "metadata": {
    "_uuid": "55ebf32c8b35ca031e46c9f7d9e86637fcb75ad6"
   },
   "outputs": [
    {
     "name": "stdout",
     "output_type": "stream",
     "text": [
      "(37979, 7)\n",
      "(37979, 7)\n"
     ]
    }
   ],
   "source": [
    "print(data.shape)\n",
    "data.drop(data[data.passenger_count>8].index,axis=0,inplace=True)\n",
    "print(data.shape)\n",
    "data.to_csv('E:/copy22.csv')"
   ]
  },
  {
   "cell_type": "markdown",
   "metadata": {
    "_uuid": "f473cc2a542c03e24c231de6958e45ffb67a8570"
   },
   "source": [
    "\n"
   ]
  },
  {
   "cell_type": "markdown",
   "metadata": {
    "_uuid": "ddca2f87717ccaae912727ab1305c897fd3369de"
   },
   "source": [
    "Cleaning done..."
   ]
  },
  {
   "cell_type": "markdown",
   "metadata": {
    "_uuid": "b249ed5499fba2b1d800064f1b1d0d1dd0f781d3"
   },
   "source": [
    "**Type conversion (data formating) :\n",
    "pickup_datetime **"
   ]
  },
  {
   "cell_type": "code",
   "execution_count": 1084,
   "metadata": {
    "_uuid": "a3548fea3f1a5e67cfa9c4361376a6f9ca150a7d"
   },
   "outputs": [
    {
     "data": {
      "text/plain": [
       "fare_amount          float64\n",
       "pickup_datetime       object\n",
       "pickup_longitude     float64\n",
       "pickup_latitude      float64\n",
       "dropoff_longitude    float64\n",
       "dropoff_latitude     float64\n",
       "passenger_count        int64\n",
       "dtype: object"
      ]
     },
     "execution_count": 1084,
     "metadata": {},
     "output_type": "execute_result"
    }
   ],
   "source": [
    "\n",
    "data.dtypes"
   ]
  },
  {
   "cell_type": "markdown",
   "metadata": {
    "_uuid": "8acf6fa524be760e7d18d473d4dd6d618a160c46",
    "collapsed": true
   },
   "source": [
    "observed type of column pickup_datetime is an object . will convert it to datetime format"
   ]
  },
  {
   "cell_type": "code",
   "execution_count": 1085,
   "metadata": {
    "_uuid": "f0619d3bb21ac14810cef078ca9b652ded325521"
   },
   "outputs": [
    {
     "data": {
      "text/plain": [
       "0    2009-06-15 17:26:21 UTC\n",
       "Name: pickup_datetime, dtype: object"
      ]
     },
     "execution_count": 1085,
     "metadata": {},
     "output_type": "execute_result"
    }
   ],
   "source": [
    "data['pickup_datetime'].head(1)"
   ]
  },
  {
   "cell_type": "markdown",
   "metadata": {
    "_uuid": "9394fe5635315b5e92c2b75602a982f5318fc127"
   },
   "source": [
    "Problem faced: to_datetime - too slow"
   ]
  },
  {
   "cell_type": "code",
   "execution_count": 1086,
   "metadata": {
    "_uuid": "27f47327bff28ca43ea686ee2d27cba1257de817"
   },
   "outputs": [],
   "source": [
    "data['pickup_datetime']=pd.to_datetime(data['pickup_datetime'], infer_datetime_format=True)"
   ]
  },
  {
   "cell_type": "code",
   "execution_count": 1087,
   "metadata": {
    "_uuid": "cb4ce2c28caf824566892bc54695ff0e7ec16553"
   },
   "outputs": [
    {
     "data": {
      "text/plain": [
       "0   2009-06-15 17:26:21\n",
       "Name: pickup_datetime, dtype: datetime64[ns]"
      ]
     },
     "execution_count": 1087,
     "metadata": {},
     "output_type": "execute_result"
    }
   ],
   "source": [
    "data['pickup_datetime'].head(1)"
   ]
  },
  {
   "cell_type": "markdown",
   "metadata": {
    "_uuid": "c1367cf74cc4856c98f153d16179517547061282"
   },
   "source": [
    "\n",
    "split the datetime"
   ]
  },
  {
   "cell_type": "code",
   "execution_count": 1088,
   "metadata": {
    "_uuid": "05554fa46d09205327f8e07d3d8f2633440e9d31"
   },
   "outputs": [],
   "source": [
    "data['year'] = data['pickup_datetime'].dt.year\n",
    "data['Month'] = data['pickup_datetime'].dt.month\n",
    "data['Date'] = data['pickup_datetime'].dt.day\n",
    "data['Day of Week'] = data['pickup_datetime'].dt.dayofweek\n",
    "data['Hour'] = data['pickup_datetime'].dt.hour\n",
    "data['Minute'] = data['pickup_datetime'].dt.minute"
   ]
  },
  {
   "cell_type": "markdown",
   "metadata": {
    "_uuid": "0b8d0002a1a0b4fe448fcdb5e434f8e7882dc1cf"
   },
   "source": [
    "**Distance **\n",
    "\n",
    "Calculate the distance based on longitude and latitude \n",
    "\n",
    "Haversine formula:\n",
    "\n",
    "dlon = lon2 - lon1 \n",
    "dlat = lat2 - lat1 \n",
    "a = (sin(dlat/2))^2 + cos(lat1) * cos(lat2) * (sin(dlon/2))^2 \n",
    "c = 2 * atan2( sqrt(a), sqrt(1-a) ) \n",
    "d = R * c (where R is the radius of the Earth)\n",
    "\n",
    "#a = sin²(Δφ/2) + cos φ1 ⋅ cos φ2 ⋅ sin²(Δλ/2)\n",
    "#c = 2 ⋅ atan2( √a, √(1−a) )\n",
    "#d = R ⋅ c"
   ]
  },
  {
   "cell_type": "code",
   "execution_count": 1089,
   "metadata": {
    "_uuid": "39a8f38b7ea7528fdb25546097cc1e2914eb6dab"
   },
   "outputs": [],
   "source": [
    "from math import radians, cos, sin, asin, sqrt\n",
    "def haversine(a):\n",
    "    lon1=a[0]\n",
    "    lat1=a[1]\n",
    "    lon2=a[2]\n",
    "    lat2=a[3]\n",
    "    \"\"\"\n",
    "    Calculate the great circle distance between two points \n",
    "    on the earth (specified in decimal degrees)\n",
    "    \"\"\"\n",
    "    # convert decimal degrees to radians \n",
    "    lon1, lat1, lon2, lat2 = map(radians, [lon1, lat1, lon2, lat2])\n",
    "    # haversine formula \n",
    "    dlon = lon2 - lon1 \n",
    "    dlat = lat2 - lat1 \n",
    "    a = sin(dlat/2)**2 + cos(lat1) * cos(lat2) * sin(dlon/2)**2\n",
    "    c =  2 * asin(sqrt(a)) \n",
    "    # Radius of earth in kilometers is 6371\n",
    "    km = 6371* c\n",
    "    return km\n",
    "# 1min "
   ]
  },
  {
   "cell_type": "code",
   "execution_count": 1090,
   "metadata": {
    "_uuid": "490e4606cead6ab126d713dfdd9df5d6914a515a"
   },
   "outputs": [],
   "source": [
    "data['distance']=data[['pickup_longitude','pickup_latitude','dropoff_longitude','dropoff_latitude']].apply(haversine,axis=1)"
   ]
  },
  {
   "cell_type": "code",
   "execution_count": 1091,
   "metadata": {
    "_uuid": "f8cce93cd83e4c387ed367676f635d71b3907121"
   },
   "outputs": [
    {
     "data": {
      "text/plain": [
       "0    1.030764\n",
       "1    8.450134\n",
       "2    1.389525\n",
       "3    2.799270\n",
       "4    1.999157\n",
       "Name: distance, dtype: float64"
      ]
     },
     "execution_count": 1091,
     "metadata": {},
     "output_type": "execute_result"
    }
   ],
   "source": [
    "data[\"distance\"].head(5)"
   ]
  },
  {
   "cell_type": "code",
   "execution_count": 1092,
   "metadata": {
    "_uuid": "2e32156dfda46e3622dc8ac65d42da17efd63754"
   },
   "outputs": [
    {
     "data": {
      "text/plain": [
       "(385, 14)"
      ]
     },
     "execution_count": 1092,
     "metadata": {},
     "output_type": "execute_result"
    }
   ],
   "source": [
    "#Analyze column distance ,and drop the rows if necessary to drop\n",
    "data[data.distance==0].shape  # found records with 0 distnace "
   ]
  },
  {
   "cell_type": "code",
   "execution_count": 1093,
   "metadata": {
    "_uuid": "0e5aecfc56f7cc1a918e777a3add590b2b8394cf"
   },
   "outputs": [
    {
     "name": "stdout",
     "output_type": "stream",
     "text": [
      "(37979, 14)\n",
      "(37594, 14)\n"
     ]
    }
   ],
   "source": [
    "print(data.shape)\n",
    "data.drop(data[data.distance==0].index,axis=0, inplace=True) # drop the rows having records of distance as 0\n",
    "print(data.shape)"
   ]
  },
  {
   "cell_type": "markdown",
   "metadata": {
    "_uuid": "fee9954947e719e68e53e26b28c9a02f248894a6"
   },
   "source": [
    "**Exploratory Data Analysis**"
   ]
  },
  {
   "cell_type": "markdown",
   "metadata": {
    "_uuid": "8e4371a5f374fe0b2a2d3a41005ddd53a8aa971b"
   },
   "source": [
    "**1)Check the pickup date and time affect the fare or not**"
   ]
  },
  {
   "cell_type": "code",
   "execution_count": 1094,
   "metadata": {
    "_uuid": "f0891a205ec4fc82417d7af88d89510b3cafddbb"
   },
   "outputs": [
    {
     "data": {
      "text/plain": [
       "Text(0, 0.5, 'Fare')"
      ]
     },
     "execution_count": 1094,
     "metadata": {},
     "output_type": "execute_result"
    },
    {
     "data": {
      "image/png": "[encoded data removed]",
      "text/plain": [
       "<Figure size 1080x504 with 1 Axes>"
      ]
     },
     "metadata": {
      "needs_background": "light"
     },
     "output_type": "display_data"
    }
   ],
   "source": [
    "plt.figure(figsize=(15,7))\n",
    "plt.scatter(x=data['Date'], y=data['fare_amount'], s=1.5)\n",
    "plt.xlabel('Date')\n",
    "plt.ylabel('Fare')"
   ]
  },
  {
   "cell_type": "markdown",
   "metadata": {
    "_uuid": "0e95a1a322a78f9029f8b57c5ec1d88be849c7e5"
   },
   "source": [
    "The fares throught the month mostly seem uniform"
   ]
  },
  {
   "cell_type": "code",
   "execution_count": 1095,
   "metadata": {
    "_uuid": "b36b2f79c2225af8dceef2af40c23a7ab3ceb13a"
   },
   "outputs": [
    {
     "data": {
      "text/plain": [
       "Text(0, 0.5, 'Frequency')"
      ]
     },
     "execution_count": 1095,
     "metadata": {},
     "output_type": "execute_result"
    },
    {
     "data": {
      "image/png": "[encoded data removed]",
      "text/plain": [
       "<Figure size 1080x504 with 1 Axes>"
      ]
     },
     "metadata": {
      "needs_background": "light"
     },
     "output_type": "display_data"
    }
   ],
   "source": [
    "plt.figure(figsize=(15,7))\n",
    "plt.hist(data['Hour'], bins=100)\n",
    "plt.xlabel('Hour')\n",
    "plt.ylabel('Frequency')"
   ]
  },
  {
   "cell_type": "markdown",
   "metadata": {
    "_uuid": "b4d3561ea9583ec6fee4c2e9b0f05012ef04e783"
   },
   "source": [
    "The time of day definitely plays an important role. The frequency of cab rides seem to be the lowest at 5AM "
   ]
  },
  {
   "cell_type": "code",
   "execution_count": 1096,
   "metadata": {
    "_uuid": "d70770d1d5ffa66d25c2cf4d22ce85a24411afcf"
   },
   "outputs": [
    {
     "data": {
      "text/plain": [
       "Text(0, 0.5, 'Fare')"
      ]
     },
     "execution_count": 1096,
     "metadata": {},
     "output_type": "execute_result"
    },
    {
     "data": {
      "image/png": "[encoded data removed]",
      "text/plain": [
       "<Figure size 1080x504 with 1 Axes>"
      ]
     },
     "metadata": {
      "needs_background": "light"
     },
     "output_type": "display_data"
    }
   ],
   "source": [
    "plt.figure(figsize=(15,7))\n",
    "plt.scatter(x=data['Hour'], y=data['fare_amount'], s=1.5)\n",
    "plt.xlabel('Hour')\n",
    "plt.ylabel('Fare')"
   ]
  },
  {
   "cell_type": "markdown",
   "metadata": {
    "_uuid": "d323bd74ac6ac8663f95944e50afea8029847c1c"
   },
   "source": [
    "**2)number of passengers vs fare**"
   ]
  },
  {
   "cell_type": "code",
   "execution_count": 1097,
   "metadata": {
    "_uuid": "b61fa8a0e604272f815ea0b71c1ef976b7b3e4e8"
   },
   "outputs": [
    {
     "data": {
      "text/plain": [
       "Text(0, 0.5, 'Frequency')"
      ]
     },
     "execution_count": 1097,
     "metadata": {},
     "output_type": "execute_result"
    },
    {
     "data": {
      "image/png": "[encoded data removed]",
      "text/plain": [
       "<Figure size 1080x504 with 1 Axes>"
      ]
     },
     "metadata": {
      "needs_background": "light"
     },
     "output_type": "display_data"
    }
   ],
   "source": [
    "plt.figure(figsize=(15,7))\n",
    "plt.hist(data['passenger_count'], bins=15)\n",
    "plt.xlabel('No. of Passengers')\n",
    "plt.ylabel('Frequency')"
   ]
  },
  {
   "cell_type": "code",
   "execution_count": 1098,
   "metadata": {
    "_uuid": "e11b4ec973cc9d5d24f50dd8a2102d2b63ac7a32"
   },
   "outputs": [
    {
     "data": {
      "text/plain": [
       "Text(0, 0.5, 'Fare')"
      ]
     },
     "execution_count": 1098,
     "metadata": {},
     "output_type": "execute_result"
    },
    {
     "data": {
      "image/png": "[encoded data removed]",
      "text/plain": [
       "<Figure size 1080x504 with 1 Axes>"
      ]
     },
     "metadata": {
      "needs_background": "light"
     },
     "output_type": "display_data"
    }
   ],
   "source": [
    "plt.figure(figsize=(15,7))\n",
    "plt.scatter(x=data['passenger_count'], y=data['fare_amount'], s=1.5)\n",
    "plt.xlabel('No. of Passengers')\n",
    "plt.ylabel('Fare')"
   ]
  },
  {
   "cell_type": "markdown",
   "metadata": {
    "_uuid": "b275d89ae848d98bd906066a65b2ce61f4c3b5f8"
   },
   "source": [
    "single passengers are the most frequent travellers, and the highest fare also seems to come from cabs which carry just 1 passenger."
   ]
  },
  {
   "cell_type": "markdown",
   "metadata": {
    "_uuid": "2f6a9f7f64ef7a9737a19721535b751a877d8058"
   },
   "source": [
    "**3)Does the day of the week affect the fare?**"
   ]
  },
  {
   "cell_type": "code",
   "execution_count": 1099,
   "metadata": {
    "_uuid": "51a74a6425657640cde1f50d5008382601e85818"
   },
   "outputs": [
    {
     "data": {
      "text/plain": [
       "Text(0, 0.5, 'Frequency')"
      ]
     },
     "execution_count": 1099,
     "metadata": {},
     "output_type": "execute_result"
    },
    {
     "data": {
      "image/png": "[encoded data removed]",
      "text/plain": [
       "<Figure size 1080x504 with 1 Axes>"
      ]
     },
     "metadata": {
      "needs_background": "light"
     },
     "output_type": "display_data"
    }
   ],
   "source": [
    "plt.figure(figsize=(15,7))\n",
    "plt.hist(data['Day of Week'], bins=100)\n",
    "plt.xlabel('Day of Week')\n",
    "plt.ylabel('Frequency')\n",
    "#0 means Saturday"
   ]
  },
  {
   "cell_type": "markdown",
   "metadata": {
    "_uuid": "834a61fb231b1a333fcc17dd753dbc2fd3050922"
   },
   "source": [
    " day of the week doesn't seem to have the effect on the number of cab rides"
   ]
  },
  {
   "cell_type": "markdown",
   "metadata": {
    "_uuid": "0453896a0d38436e95561a38cdb40a02697f3fcd"
   },
   "source": [
    "**Test Data**"
   ]
  },
  {
   "cell_type": "code",
   "execution_count": 1100,
   "metadata": {
    "_uuid": "c7909cea1a99cb64d3265405b8917f90c15d7960"
   },
   "outputs": [
    {
     "data": {
      "text/html": [
       "<div>\n",
       "<style scoped>\n",
       "    .dataframe tbody tr th:only-of-type {\n",
       "        vertical-align: middle;\n",
       "    }\n",
       "\n",
       "    .dataframe tbody tr th {\n",
       "        vertical-align: top;\n",
       "    }\n",
       "\n",
       "    .dataframe thead th {\n",
       "        text-align: right;\n",
       "    }\n",
       "</style>\n",
       "<table border=\"1\" class=\"dataframe\">\n",
       "  <thead>\n",
       "    <tr style=\"text-align: right;\">\n",
       "      <th></th>\n",
       "      <th>key</th>\n",
       "      <th>pickup_datetime</th>\n",
       "      <th>pickup_longitude</th>\n",
       "      <th>pickup_latitude</th>\n",
       "      <th>dropoff_longitude</th>\n",
       "      <th>dropoff_latitude</th>\n",
       "      <th>passenger_count</th>\n",
       "    </tr>\n",
       "  </thead>\n",
       "  <tbody>\n",
       "    <tr>\n",
       "      <th>0</th>\n",
       "      <td>08:24.0</td>\n",
       "      <td>2015-01-27 13:08:24 UTC</td>\n",
       "      <td>-73.983123</td>\n",
       "      <td>40.725289</td>\n",
       "      <td>-73.981430</td>\n",
       "      <td>40.743835</td>\n",
       "      <td>1</td>\n",
       "    </tr>\n",
       "    <tr>\n",
       "      <th>1</th>\n",
       "      <td>08:24.0</td>\n",
       "      <td>2015-01-27 13:08:24 UTC</td>\n",
       "      <td>-73.789804</td>\n",
       "      <td>40.645352</td>\n",
       "      <td>-73.998886</td>\n",
       "      <td>40.739201</td>\n",
       "      <td>1</td>\n",
       "    </tr>\n",
       "    <tr>\n",
       "      <th>2</th>\n",
       "      <td>12:12.0</td>\n",
       "      <td>2011-10-08 11:53:44 UTC</td>\n",
       "      <td>-73.138071</td>\n",
       "      <td>41.365669</td>\n",
       "      <td>-73.979654</td>\n",
       "      <td>40.746139</td>\n",
       "      <td>1</td>\n",
       "    </tr>\n",
       "    <tr>\n",
       "      <th>3</th>\n",
       "      <td>12:12.0</td>\n",
       "      <td>2012-12-01 21:12:12 UTC</td>\n",
       "      <td>-73.973311</td>\n",
       "      <td>40.750564</td>\n",
       "      <td>-73.990448</td>\n",
       "      <td>40.751635</td>\n",
       "      <td>1</td>\n",
       "    </tr>\n",
       "    <tr>\n",
       "      <th>4</th>\n",
       "      <td>12:12.0</td>\n",
       "      <td>2012-12-01 21:12:12 UTC</td>\n",
       "      <td>-73.874097</td>\n",
       "      <td>40.773698</td>\n",
       "      <td>-73.988565</td>\n",
       "      <td>40.744427</td>\n",
       "      <td>1</td>\n",
       "    </tr>\n",
       "  </tbody>\n",
       "</table>\n",
       "</div>"
      ],
      "text/plain": [
       "       key          pickup_datetime  pickup_longitude  pickup_latitude  \\\n",
       "0  08:24.0  2015-01-27 13:08:24 UTC        -73.983123        40.725289   \n",
       "1  08:24.0  2015-01-27 13:08:24 UTC        -73.789804        40.645352   \n",
       "2  12:12.0  2011-10-08 11:53:44 UTC        -73.138071        41.365669   \n",
       "3  12:12.0  2012-12-01 21:12:12 UTC        -73.973311        40.750564   \n",
       "4  12:12.0  2012-12-01 21:12:12 UTC        -73.874097        40.773698   \n",
       "\n",
       "   dropoff_longitude  dropoff_latitude  passenger_count  \n",
       "0         -73.981430         40.743835                1  \n",
       "1         -73.998886         40.739201                1  \n",
       "2         -73.979654         40.746139                1  \n",
       "3         -73.990448         40.751635                1  \n",
       "4         -73.988565         40.744427                1  "
      ]
     },
     "execution_count": 1100,
     "metadata": {},
     "output_type": "execute_result"
    }
   ],
   "source": [
    "test_data=pd.read_csv(\"D:/test1.csv\")\n",
    "test_data.head()"
   ]
  },
  {
   "cell_type": "code",
   "execution_count": 1101,
   "metadata": {
    "_uuid": "f1b6dea044626a4fcb977c4ab5506baa5664c98e"
   },
   "outputs": [
    {
     "data": {
      "text/plain": [
       "key                   object\n",
       "pickup_datetime       object\n",
       "pickup_longitude     float64\n",
       "pickup_latitude      float64\n",
       "dropoff_longitude    float64\n",
       "dropoff_latitude     float64\n",
       "passenger_count        int64\n",
       "dtype: object"
      ]
     },
     "execution_count": 1101,
     "metadata": {},
     "output_type": "execute_result"
    }
   ],
   "source": [
    "test_data.dtypes"
   ]
  },
  {
   "cell_type": "markdown",
   "metadata": {
    "_uuid": "9484144f34ab7aa053e0e8b01f2b84c96848d45b"
   },
   "source": [
    "Convert key and pickup_datetime to correct format"
   ]
  },
  {
   "cell_type": "code",
   "execution_count": 1102,
   "metadata": {
    "_uuid": "f4abe9e36a0ee01d7d5e2ac91e8a30ccd387f6fc"
   },
   "outputs": [],
   "source": [
    "test_data['key']=pd.to_datetime(test_data['key'], infer_datetime_format=True)\n",
    "test_data['pickup_datetime']=pd.to_datetime(test_data['pickup_datetime'], infer_datetime_format=True)"
   ]
  },
  {
   "cell_type": "code",
   "execution_count": 1103,
   "metadata": {
    "_uuid": "486f8656226621c7bea85abef1e70c6b93b32e9d"
   },
   "outputs": [
    {
     "data": {
      "text/plain": [
       "key                  datetime64[ns]\n",
       "pickup_datetime      datetime64[ns]\n",
       "pickup_longitude            float64\n",
       "pickup_latitude             float64\n",
       "dropoff_longitude           float64\n",
       "dropoff_latitude            float64\n",
       "passenger_count               int64\n",
       "dtype: object"
      ]
     },
     "execution_count": 1103,
     "metadata": {},
     "output_type": "execute_result"
    }
   ],
   "source": [
    "test_data.dtypes"
   ]
  },
  {
   "cell_type": "code",
   "execution_count": 1104,
   "metadata": {
    "_uuid": "98f01d42ed6d37772117a44d25dfd4e848564db9"
   },
   "outputs": [],
   "source": [
    "test_data['year'] = test_data['pickup_datetime'].dt.year\n",
    "test_data['Month'] = test_data['pickup_datetime'].dt.month\n",
    "test_data['Date'] = test_data['pickup_datetime'].dt.day\n",
    "test_data['Day of Week'] = test_data['pickup_datetime'].dt.dayofweek\n",
    "test_data['Hour'] = test_data['pickup_datetime'].dt.hour\n",
    "test_data['Minute'] = test_data['pickup_datetime'].dt.minute"
   ]
  },
  {
   "cell_type": "code",
   "execution_count": 1105,
   "metadata": {
    "_uuid": "839fe24890380092476d546a820972595ef6b18b"
   },
   "outputs": [
    {
     "data": {
      "text/html": [
       "<div>\n",
       "<style scoped>\n",
       "    .dataframe tbody tr th:only-of-type {\n",
       "        vertical-align: middle;\n",
       "    }\n",
       "\n",
       "    .dataframe tbody tr th {\n",
       "        vertical-align: top;\n",
       "    }\n",
       "\n",
       "    .dataframe thead th {\n",
       "        text-align: right;\n",
       "    }\n",
       "</style>\n",
       "<table border=\"1\" class=\"dataframe\">\n",
       "  <thead>\n",
       "    <tr style=\"text-align: right;\">\n",
       "      <th></th>\n",
       "      <th>key</th>\n",
       "      <th>pickup_datetime</th>\n",
       "      <th>pickup_longitude</th>\n",
       "      <th>pickup_latitude</th>\n",
       "      <th>dropoff_longitude</th>\n",
       "      <th>dropoff_latitude</th>\n",
       "      <th>passenger_count</th>\n",
       "      <th>year</th>\n",
       "      <th>Month</th>\n",
       "      <th>Date</th>\n",
       "      <th>Day of Week</th>\n",
       "      <th>Hour</th>\n",
       "      <th>Minute</th>\n",
       "    </tr>\n",
       "  </thead>\n",
       "  <tbody>\n",
       "    <tr>\n",
       "      <th>0</th>\n",
       "      <td>2019-10-05 08:24:00</td>\n",
       "      <td>2015-01-27 13:08:24</td>\n",
       "      <td>-73.983123</td>\n",
       "      <td>40.725289</td>\n",
       "      <td>-73.981430</td>\n",
       "      <td>40.743835</td>\n",
       "      <td>1</td>\n",
       "      <td>2015</td>\n",
       "      <td>1</td>\n",
       "      <td>27</td>\n",
       "      <td>1</td>\n",
       "      <td>13</td>\n",
       "      <td>8</td>\n",
       "    </tr>\n",
       "    <tr>\n",
       "      <th>1</th>\n",
       "      <td>2019-10-05 08:24:00</td>\n",
       "      <td>2015-01-27 13:08:24</td>\n",
       "      <td>-73.789804</td>\n",
       "      <td>40.645352</td>\n",
       "      <td>-73.998886</td>\n",
       "      <td>40.739201</td>\n",
       "      <td>1</td>\n",
       "      <td>2015</td>\n",
       "      <td>1</td>\n",
       "      <td>27</td>\n",
       "      <td>1</td>\n",
       "      <td>13</td>\n",
       "      <td>8</td>\n",
       "    </tr>\n",
       "    <tr>\n",
       "      <th>2</th>\n",
       "      <td>2019-10-05 12:12:00</td>\n",
       "      <td>2011-10-08 11:53:44</td>\n",
       "      <td>-73.138071</td>\n",
       "      <td>41.365669</td>\n",
       "      <td>-73.979654</td>\n",
       "      <td>40.746139</td>\n",
       "      <td>1</td>\n",
       "      <td>2011</td>\n",
       "      <td>10</td>\n",
       "      <td>8</td>\n",
       "      <td>5</td>\n",
       "      <td>11</td>\n",
       "      <td>53</td>\n",
       "    </tr>\n",
       "  </tbody>\n",
       "</table>\n",
       "</div>"
      ],
      "text/plain": [
       "                  key     pickup_datetime  pickup_longitude  pickup_latitude  \\\n",
       "0 2019-10-05 08:24:00 2015-01-27 13:08:24        -73.983123        40.725289   \n",
       "1 2019-10-05 08:24:00 2015-01-27 13:08:24        -73.789804        40.645352   \n",
       "2 2019-10-05 12:12:00 2011-10-08 11:53:44        -73.138071        41.365669   \n",
       "\n",
       "   dropoff_longitude  dropoff_latitude  passenger_count  year  Month  Date  \\\n",
       "0         -73.981430         40.743835                1  2015      1    27   \n",
       "1         -73.998886         40.739201                1  2015      1    27   \n",
       "2         -73.979654         40.746139                1  2011     10     8   \n",
       "\n",
       "   Day of Week  Hour  Minute  \n",
       "0            1    13       8  \n",
       "1            1    13       8  \n",
       "2            5    11      53  "
      ]
     },
     "execution_count": 1105,
     "metadata": {},
     "output_type": "execute_result"
    }
   ],
   "source": [
    "test_data.head(3)"
   ]
  },
  {
   "cell_type": "code",
   "execution_count": 1106,
   "metadata": {
    "_uuid": "5f4c89091aab3ed2842546fccbed286d04e22049"
   },
   "outputs": [
    {
     "data": {
      "text/plain": [
       "key                  0\n",
       "pickup_datetime      0\n",
       "pickup_longitude     0\n",
       "pickup_latitude      0\n",
       "dropoff_longitude    0\n",
       "dropoff_latitude     0\n",
       "passenger_count      0\n",
       "year                 0\n",
       "Month                0\n",
       "Date                 0\n",
       "Day of Week          0\n",
       "Hour                 0\n",
       "Minute               0\n",
       "dtype: int64"
      ]
     },
     "execution_count": 1106,
     "metadata": {},
     "output_type": "execute_result"
    }
   ],
   "source": [
    "test_data.isnull().sum()"
   ]
  },
  {
   "cell_type": "code",
   "execution_count": 1107,
   "metadata": {
    "_uuid": "fca4549cc86f88ae4c8306e833132ff6997f291d"
   },
   "outputs": [],
   "source": [
    "from math import radians, cos, sin, asin, sqrt,atan2\n",
    "def haversine(a):\n",
    "    lon1=a[0]\n",
    "    lat1=a[1]\n",
    "    lon2=a[2]\n",
    "    lat2=a[3]\n",
    "    \"\"\"\n",
    "    Calculate the great circle distance between two points \n",
    "    on the earth (specified in decimal degrees)\n",
    "    \"\"\"\n",
    "    # convert decimal degrees to radians \n",
    "    lon1, lat1, lon2, lat2 = map(radians, [lon1, lat1, lon2, lat2])\n",
    "    # haversine formula \n",
    "    dlon = lon2 - lon1 \n",
    "    dlat = lat2 - lat1 \n",
    "    a = sin(dlat/2)**2 + cos(lat1) * cos(lat2) * sin(dlon/2)**2\n",
    "    c = 2 * asin(sqrt(a)) \n",
    "    # Radius of earth in kilometers is 6371\n",
    "    km = 6371* c\n",
    "    return km\n",
    "# 1min "
   ]
  },
  {
   "cell_type": "code",
   "execution_count": 1108,
   "metadata": {
    "_uuid": "df28309590867ccd8210164119337c1a5a9bdd58"
   },
   "outputs": [],
   "source": [
    "test_data['distance']=test_data[['pickup_longitude','pickup_latitude','dropoff_longitude','dropoff_latitude']].apply(haversine,axis=1)"
   ]
  },
  {
   "cell_type": "code",
   "execution_count": 1109,
   "metadata": {
    "_uuid": "d1e8949c87e69d0a0837b8e0b7dbe2893add7303"
   },
   "outputs": [
    {
     "data": {
      "text/plain": [
       "count    100.000000\n",
       "mean      12.048783\n",
       "std       17.924302\n",
       "min        0.242378\n",
       "25%        2.981561\n",
       "50%        5.276836\n",
       "75%       12.046766\n",
       "max       98.615141\n",
       "Name: distance, dtype: float64"
      ]
     },
     "execution_count": 1109,
     "metadata": {},
     "output_type": "execute_result"
    }
   ],
   "source": [
    "test_data['distance'].describe()"
   ]
  },
  {
   "cell_type": "code",
   "execution_count": 1110,
   "metadata": {
    "_uuid": "cf22485ee1317d89d44d9829695b7ed2b707f12b"
   },
   "outputs": [],
   "source": [
    "#test_data[test_data.distance==0]"
   ]
  },
  {
   "cell_type": "code",
   "execution_count": 1111,
   "metadata": {
    "_uuid": "d4224f9916b904b863adf1d90625108365178891"
   },
   "outputs": [
    {
     "data": {
      "text/plain": [
       "Index(['key', 'pickup_datetime', 'pickup_longitude', 'pickup_latitude',\n",
       "       'dropoff_longitude', 'dropoff_latitude', 'passenger_count', 'year',\n",
       "       'Month', 'Date', 'Day of Week', 'Hour', 'Minute', 'distance'],\n",
       "      dtype='object')"
      ]
     },
     "execution_count": 1111,
     "metadata": {},
     "output_type": "execute_result"
    }
   ],
   "source": [
    "test_data.columns"
   ]
  },
  {
   "cell_type": "markdown",
   "metadata": {
    "_uuid": "8d4ee7b443dc9c7801086fc65850a7f8056cd13b"
   },
   "source": [
    "**Machine Learning Algorithm**"
   ]
  },
  {
   "cell_type": "markdown",
   "metadata": {
    "_uuid": "6cc86f493f0e8c4132a167120b460b3a3d8f9a2c"
   },
   "source": [
    "Train data"
   ]
  },
  {
   "cell_type": "code",
   "execution_count": 1112,
   "metadata": {
    "_uuid": "df7a606374cbf7363f67cdae0b8b17622e7f4448"
   },
   "outputs": [
    {
     "data": {
      "text/plain": [
       "fare_amount                 float64\n",
       "pickup_datetime      datetime64[ns]\n",
       "pickup_longitude            float64\n",
       "pickup_latitude             float64\n",
       "dropoff_longitude           float64\n",
       "dropoff_latitude            float64\n",
       "passenger_count               int64\n",
       "year                          int64\n",
       "Month                         int64\n",
       "Date                          int64\n",
       "Day of Week                   int64\n",
       "Hour                          int64\n",
       "Minute                        int64\n",
       "distance                    float64\n",
       "dtype: object"
      ]
     },
     "execution_count": 1112,
     "metadata": {},
     "output_type": "execute_result"
    }
   ],
   "source": [
    "\n",
    "data.dtypes"
   ]
  },
  {
   "cell_type": "code",
   "execution_count": 1113,
   "metadata": {
    "_uuid": "e4ad11572109d88e2927fd0111938bf1a339ff42"
   },
   "outputs": [
    {
     "name": "stdout",
     "output_type": "stream",
     "text": [
      "(37594, 14)\n",
      "(37594, 13)\n"
     ]
    }
   ],
   "source": [
    "#drop pickup_datetime as we can't use directly in our model\n",
    "print(data.shape)\n",
    "data=data.drop('pickup_datetime',axis=1)\n",
    "#data=data.drop('dropoff_latitude',axis=1)\n",
    "#data=data.drop('dropoff_longitude',axis=1)\n",
    "#data=data.drop('passenger_count',axis=1)\n",
    "print(data.shape)"
   ]
  },
  {
   "cell_type": "code",
   "execution_count": 1114,
   "metadata": {
    "_uuid": "ed5fdc6424baed8b46f65840edfa1b66c8f58e20"
   },
   "outputs": [
    {
     "data": {
      "text/plain": [
       "fare_amount          float64\n",
       "pickup_longitude     float64\n",
       "pickup_latitude      float64\n",
       "dropoff_longitude    float64\n",
       "dropoff_latitude     float64\n",
       "passenger_count        int64\n",
       "year                   int64\n",
       "Month                  int64\n",
       "Date                   int64\n",
       "Day of Week            int64\n",
       "Hour                   int64\n",
       "Minute                 int64\n",
       "distance             float64\n",
       "dtype: object"
      ]
     },
     "execution_count": 1114,
     "metadata": {},
     "output_type": "execute_result"
    }
   ],
   "source": [
    "data.dtypes"
   ]
  },
  {
   "cell_type": "code",
   "execution_count": 1115,
   "metadata": {
    "_uuid": "20f58824acea3c437f61e9ec0c4aeee3c544953f"
   },
   "outputs": [
    {
     "data": {
      "text/html": [
       "<div>\n",
       "<style scoped>\n",
       "    .dataframe tbody tr th:only-of-type {\n",
       "        vertical-align: middle;\n",
       "    }\n",
       "\n",
       "    .dataframe tbody tr th {\n",
       "        vertical-align: top;\n",
       "    }\n",
       "\n",
       "    .dataframe thead th {\n",
       "        text-align: right;\n",
       "    }\n",
       "</style>\n",
       "<table border=\"1\" class=\"dataframe\">\n",
       "  <thead>\n",
       "    <tr style=\"text-align: right;\">\n",
       "      <th></th>\n",
       "      <th>fare_amount</th>\n",
       "      <th>pickup_longitude</th>\n",
       "      <th>pickup_latitude</th>\n",
       "      <th>dropoff_longitude</th>\n",
       "      <th>dropoff_latitude</th>\n",
       "      <th>passenger_count</th>\n",
       "      <th>year</th>\n",
       "      <th>Month</th>\n",
       "      <th>Date</th>\n",
       "      <th>Day of Week</th>\n",
       "      <th>Hour</th>\n",
       "      <th>Minute</th>\n",
       "      <th>distance</th>\n",
       "    </tr>\n",
       "  </thead>\n",
       "  <tbody>\n",
       "    <tr>\n",
       "      <th>0</th>\n",
       "      <td>4.5</td>\n",
       "      <td>-73.844311</td>\n",
       "      <td>40.721319</td>\n",
       "      <td>-73.84161</td>\n",
       "      <td>40.712278</td>\n",
       "      <td>1</td>\n",
       "      <td>2009</td>\n",
       "      <td>6</td>\n",
       "      <td>15</td>\n",
       "      <td>0</td>\n",
       "      <td>17</td>\n",
       "      <td>26</td>\n",
       "      <td>1.030764</td>\n",
       "    </tr>\n",
       "  </tbody>\n",
       "</table>\n",
       "</div>"
      ],
      "text/plain": [
       "   fare_amount  pickup_longitude  pickup_latitude  dropoff_longitude  \\\n",
       "0          4.5        -73.844311        40.721319          -73.84161   \n",
       "\n",
       "   dropoff_latitude  passenger_count  year  Month  Date  Day of Week  Hour  \\\n",
       "0         40.712278                1  2009      6    15            0    17   \n",
       "\n",
       "   Minute  distance  \n",
       "0      26  1.030764  "
      ]
     },
     "execution_count": 1115,
     "metadata": {},
     "output_type": "execute_result"
    }
   ],
   "source": [
    "data.iloc[:,:].head(1)"
   ]
  },
  {
   "cell_type": "code",
   "execution_count": 1116,
   "metadata": {
    "_uuid": "b9c79976f95f822bf300d452628a1796c64c2753"
   },
   "outputs": [
    {
     "name": "stdout",
     "output_type": "stream",
     "text": [
      "[ 4.5 16.9  5.7 ... 10.9 14.5  6. ]\n"
     ]
    }
   ],
   "source": [
    "X=data.drop(\"fare_amount\",axis=1)\n",
    "y=data.iloc[:,0].values\n",
    "print(y)"
   ]
  },
  {
   "cell_type": "code",
   "execution_count": 1117,
   "metadata": {
    "_uuid": "d663de8c2aa37618d329758a6179a084cb074110"
   },
   "outputs": [
    {
     "data": {
      "text/plain": [
       "(37594, 12)"
      ]
     },
     "execution_count": 1117,
     "metadata": {},
     "output_type": "execute_result"
    }
   ],
   "source": [
    "X.shape"
   ]
  },
  {
   "cell_type": "code",
   "execution_count": 1118,
   "metadata": {
    "_uuid": "71b237b1c63a32dd3679649ece32cc236dbbdafc"
   },
   "outputs": [
    {
     "data": {
      "text/plain": [
       "(37594,)"
      ]
     },
     "execution_count": 1118,
     "metadata": {},
     "output_type": "execute_result"
    }
   ],
   "source": [
    "y.shape"
   ]
  },
  {
   "cell_type": "markdown",
   "metadata": {
    "_uuid": "c67f7e2f003f183570186d80014dfc96c83055d6"
   },
   "source": [
    "#to check accuracy"
   ]
  },
  {
   "cell_type": "code",
   "execution_count": 1119,
   "metadata": {
    "_uuid": "49fdf2acac2032cc2965d8626feba8e79379cd51"
   },
   "outputs": [],
   "source": [
    "#from sklearn.model_selection import train_test_split\n",
    "#train_X, val_X, train_y, val_y =train_test_split(X,y,test_size=0.2,random_state=0)"
   ]
  },
  {
   "cell_type": "code",
   "execution_count": 1120,
   "metadata": {
    "_uuid": "c0a4a80ef5f9a085e5c2f8cae81819c9c9eb4ba3"
   },
   "outputs": [],
   "source": [
    "#from sklearn.ensemble  import RandomForestRegressor\n",
    "#Regression =RandomForestRegressor(random_state=0)\n",
    "#Regression.fit(train_X,train_y)\n",
    "#y_pred=Regression.predict(val_X)"
   ]
  },
  {
   "cell_type": "code",
   "execution_count": 1121,
   "metadata": {
    "_uuid": "25b43aaac112d365cd5d9453883e09c7c1684249"
   },
   "outputs": [],
   "source": [
    "#import xgboost\n",
    "#Regression_xgbooost =xgboost.XGBRegressor(n_estimator=201,max_depth=17,random_state=0)\n",
    "#Regression_xgbooost.fit(train_X,train_y)\n",
    "#y_pred=Regression_xgbooost.predict(val_X)"
   ]
  },
  {
   "cell_type": "code",
   "execution_count": 1122,
   "metadata": {
    "_uuid": "fe0a79e763ecc445c57ffc87b46f043145bb09a6"
   },
   "outputs": [],
   "source": [
    "#from sklearn.metrics import mean_absolute_error\n",
    "#print(mean_absolute_error(val_y,y_pred))"
   ]
  },
  {
   "cell_type": "markdown",
   "metadata": {
    "_uuid": "9a114adab01080e4f40ffdb60bda09332ba1c2e7"
   },
   "source": [
    "test_data"
   ]
  },
  {
   "cell_type": "code",
   "execution_count": 1123,
   "metadata": {
    "_uuid": "7951a7062ffb413391a51ce6c2828a77de0bdf7a"
   },
   "outputs": [
    {
     "name": "stdout",
     "output_type": "stream",
     "text": [
      "Index(['key', 'pickup_datetime', 'pickup_longitude', 'pickup_latitude',\n",
      "       'dropoff_longitude', 'dropoff_latitude', 'passenger_count', 'year',\n",
      "       'Month', 'Date', 'Day of Week', 'Hour', 'Minute', 'distance'],\n",
      "      dtype='object')\n",
      "(100, 14)\n",
      "key                  datetime64[ns]\n",
      "pickup_datetime      datetime64[ns]\n",
      "pickup_longitude            float64\n",
      "pickup_latitude             float64\n",
      "dropoff_longitude           float64\n",
      "dropoff_latitude            float64\n",
      "passenger_count               int64\n",
      "year                          int64\n",
      "Month                         int64\n",
      "Date                          int64\n",
      "Day of Week                   int64\n",
      "Hour                          int64\n",
      "Minute                        int64\n",
      "distance                    float64\n",
      "dtype: object\n"
     ]
    }
   ],
   "source": [
    "X_test=test_data\n",
    "print(X_test.columns)\n",
    "print(X_test.shape)\n",
    "print(X_test.dtypes)"
   ]
  },
  {
   "cell_type": "code",
   "execution_count": 1124,
   "metadata": {
    "_uuid": "8ea87b64bfe0e712b902d367e13efa893e12cefe"
   },
   "outputs": [],
   "source": [
    "X_test.drop([\"key\",\"pickup_datetime\"],axis=1,inplace=True)"
   ]
  },
  {
   "cell_type": "code",
   "execution_count": 1125,
   "metadata": {
    "_uuid": "8d9c8cb7c6ae126973d99237f38628c1c6a490e4"
   },
   "outputs": [
    {
     "name": "stdout",
     "output_type": "stream",
     "text": [
      "(100, 12)\n",
      "pickup_longitude     float64\n",
      "pickup_latitude      float64\n",
      "dropoff_longitude    float64\n",
      "dropoff_latitude     float64\n",
      "passenger_count        int64\n",
      "year                   int64\n",
      "Month                  int64\n",
      "Date                   int64\n",
      "Day of Week            int64\n",
      "Hour                   int64\n",
      "Minute                 int64\n",
      "distance             float64\n",
      "dtype: object\n"
     ]
    }
   ],
   "source": [
    "print(X_test.shape)\n",
    "print(X_test.dtypes)"
   ]
  },
  {
   "cell_type": "code",
   "execution_count": null,
   "metadata": {
    "_uuid": "0b3d6dbada732048bb3cc2f89672852b482b3f56"
   },
   "outputs": [],
   "source": []
  },
  {
   "cell_type": "code",
   "execution_count": 1126,
   "metadata": {
    "_uuid": "da8a1da35d479a31ae64c8ce2f4051c9bc2c50b1"
   },
   "outputs": [],
   "source": [
    "#from sklearn.ensemble  import RandomForestRegressor\n",
    "#Regression =RandomForestRegressor(n_estimators=70,min_samples_leaf=5,random_state=0)\n",
    "#Regression.fit(X,y)\n",
    "#y_test_pred=Regression.predict(X_test)\n",
    "#print(y_test_pred)"
   ]
  },
  {
   "cell_type": "code",
   "execution_count": 1127,
   "metadata": {
    "_uuid": "9e97218da6f8cfebe02c957a72345f200acf2e97"
   },
   "outputs": [
    {
     "name": "stdout",
     "output_type": "stream",
     "text": [
      "[17:58:12] WARNING: C:/Jenkins/workspace/xgboost-win64_release_0.90/src/objective/regression_obj.cu:152: reg:linear is now deprecated in favor of reg:squarederror.\n",
      "[  9.322248   47.666405   92.411446    7.7836046  28.691135    6.38297\n",
      "  10.972637    8.421568    9.001486   12.111347   19.002537   13.764061\n",
      "  12.527177    4.2493153  12.488822   14.045624   35.822437    7.199153\n",
      "  98.98218    35.889297   98.04152     8.806205   29.394186   15.861186\n",
      "   6.197556   62.979927   27.327602   37.41457    16.629673   20.468666\n",
      " 104.006584   12.594448   23.271204   45.632362    5.356991   15.520272\n",
      "  17.041548   21.727274    6.065518   23.834188   11.041467   13.881654\n",
      "  13.341151   39.395794   12.250406  104.006584    9.938264   19.291405\n",
      "  28.993776   49.985153   28.083183   10.1582155  66.71111    24.888172\n",
      "  22.491413   37.32848    35.308575   35.263523   48.81638     5.147921\n",
      "  15.6113205  24.347647    8.801803   13.7204    102.01691    26.917463\n",
      "  64.362045    4.1393614  12.404628   29.062368   65.61522    13.046437\n",
      "  17.170622   12.947047   33.84553    13.818363   29.636515   15.462411\n",
      "  32.036835   38.41917    17.327377   65.89571     5.453428   14.939605\n",
      "  26.479897  102.36405    28.039728   24.077166    5.6210346  39.15578\n",
      "  12.580193   16.26432    53.02854    10.822547    8.162611    8.249489\n",
      "   4.6650887  44.346813   14.99965    10.902778 ]\n"
     ]
    }
   ],
   "source": [
    "import xgboost\n",
    "Regression_xgbooost =xgboost.XGBRegressor(n_estimators=50,max_depth=15,max_leaves=9,random_state=0)\n",
    "Regression_xgbooost.fit(X,y)\n",
    "y_test_pred=Regression_xgbooost.predict(X_test)\n",
    "print(y_test_pred)"
   ]
  },
  {
   "cell_type": "markdown",
   "metadata": {
    "_uuid": "9499b5310765dc5009c2b09b03438172696008df",
    "collapsed": true
   },
   "source": [
    "**submission**"
   ]
  },
  {
   "cell_type": "code",
   "execution_count": 1128,
   "metadata": {
    "_uuid": "90e29ad9466260bc46d7b9e974bc84c342d05b74"
   },
   "outputs": [
    {
     "data": {
      "text/html": [
       "<div>\n",
       "<style scoped>\n",
       "    .dataframe tbody tr th:only-of-type {\n",
       "        vertical-align: middle;\n",
       "    }\n",
       "\n",
       "    .dataframe tbody tr th {\n",
       "        vertical-align: top;\n",
       "    }\n",
       "\n",
       "    .dataframe thead th {\n",
       "        text-align: right;\n",
       "    }\n",
       "</style>\n",
       "<table border=\"1\" class=\"dataframe\">\n",
       "  <thead>\n",
       "    <tr style=\"text-align: right;\">\n",
       "      <th></th>\n",
       "      <th>key</th>\n",
       "      <th>fare_amount</th>\n",
       "    </tr>\n",
       "  </thead>\n",
       "  <tbody>\n",
       "    <tr>\n",
       "      <th>0</th>\n",
       "      <td>NaN</td>\n",
       "      <td>9.322248</td>\n",
       "    </tr>\n",
       "    <tr>\n",
       "      <th>1</th>\n",
       "      <td>NaN</td>\n",
       "      <td>47.666405</td>\n",
       "    </tr>\n",
       "    <tr>\n",
       "      <th>2</th>\n",
       "      <td>NaN</td>\n",
       "      <td>92.411446</td>\n",
       "    </tr>\n",
       "    <tr>\n",
       "      <th>3</th>\n",
       "      <td>NaN</td>\n",
       "      <td>7.783605</td>\n",
       "    </tr>\n",
       "    <tr>\n",
       "      <th>4</th>\n",
       "      <td>NaN</td>\n",
       "      <td>28.691135</td>\n",
       "    </tr>\n",
       "    <tr>\n",
       "      <th>5</th>\n",
       "      <td>NaN</td>\n",
       "      <td>6.382970</td>\n",
       "    </tr>\n",
       "    <tr>\n",
       "      <th>6</th>\n",
       "      <td>NaN</td>\n",
       "      <td>10.972637</td>\n",
       "    </tr>\n",
       "    <tr>\n",
       "      <th>7</th>\n",
       "      <td>NaN</td>\n",
       "      <td>8.421568</td>\n",
       "    </tr>\n",
       "    <tr>\n",
       "      <th>8</th>\n",
       "      <td>NaN</td>\n",
       "      <td>9.001486</td>\n",
       "    </tr>\n",
       "    <tr>\n",
       "      <th>9</th>\n",
       "      <td>NaN</td>\n",
       "      <td>12.111347</td>\n",
       "    </tr>\n",
       "    <tr>\n",
       "      <th>10</th>\n",
       "      <td>NaN</td>\n",
       "      <td>19.002537</td>\n",
       "    </tr>\n",
       "    <tr>\n",
       "      <th>11</th>\n",
       "      <td>NaN</td>\n",
       "      <td>13.764061</td>\n",
       "    </tr>\n",
       "    <tr>\n",
       "      <th>12</th>\n",
       "      <td>NaN</td>\n",
       "      <td>12.527177</td>\n",
       "    </tr>\n",
       "    <tr>\n",
       "      <th>13</th>\n",
       "      <td>NaN</td>\n",
       "      <td>4.249315</td>\n",
       "    </tr>\n",
       "    <tr>\n",
       "      <th>14</th>\n",
       "      <td>NaN</td>\n",
       "      <td>12.488822</td>\n",
       "    </tr>\n",
       "    <tr>\n",
       "      <th>15</th>\n",
       "      <td>NaN</td>\n",
       "      <td>14.045624</td>\n",
       "    </tr>\n",
       "    <tr>\n",
       "      <th>16</th>\n",
       "      <td>NaN</td>\n",
       "      <td>35.822437</td>\n",
       "    </tr>\n",
       "    <tr>\n",
       "      <th>17</th>\n",
       "      <td>NaN</td>\n",
       "      <td>7.199153</td>\n",
       "    </tr>\n",
       "    <tr>\n",
       "      <th>18</th>\n",
       "      <td>NaN</td>\n",
       "      <td>98.982178</td>\n",
       "    </tr>\n",
       "    <tr>\n",
       "      <th>19</th>\n",
       "      <td>NaN</td>\n",
       "      <td>35.889297</td>\n",
       "    </tr>\n",
       "    <tr>\n",
       "      <th>20</th>\n",
       "      <td>NaN</td>\n",
       "      <td>98.041519</td>\n",
       "    </tr>\n",
       "    <tr>\n",
       "      <th>21</th>\n",
       "      <td>NaN</td>\n",
       "      <td>8.806205</td>\n",
       "    </tr>\n",
       "    <tr>\n",
       "      <th>22</th>\n",
       "      <td>NaN</td>\n",
       "      <td>29.394186</td>\n",
       "    </tr>\n",
       "    <tr>\n",
       "      <th>23</th>\n",
       "      <td>NaN</td>\n",
       "      <td>15.861186</td>\n",
       "    </tr>\n",
       "    <tr>\n",
       "      <th>24</th>\n",
       "      <td>NaN</td>\n",
       "      <td>6.197556</td>\n",
       "    </tr>\n",
       "    <tr>\n",
       "      <th>25</th>\n",
       "      <td>NaN</td>\n",
       "      <td>62.979927</td>\n",
       "    </tr>\n",
       "    <tr>\n",
       "      <th>26</th>\n",
       "      <td>NaN</td>\n",
       "      <td>27.327602</td>\n",
       "    </tr>\n",
       "    <tr>\n",
       "      <th>27</th>\n",
       "      <td>NaN</td>\n",
       "      <td>37.414570</td>\n",
       "    </tr>\n",
       "    <tr>\n",
       "      <th>28</th>\n",
       "      <td>NaN</td>\n",
       "      <td>16.629673</td>\n",
       "    </tr>\n",
       "    <tr>\n",
       "      <th>29</th>\n",
       "      <td>NaN</td>\n",
       "      <td>20.468666</td>\n",
       "    </tr>\n",
       "    <tr>\n",
       "      <th>...</th>\n",
       "      <td>...</td>\n",
       "      <td>...</td>\n",
       "    </tr>\n",
       "    <tr>\n",
       "      <th>70</th>\n",
       "      <td>NaN</td>\n",
       "      <td>65.615219</td>\n",
       "    </tr>\n",
       "    <tr>\n",
       "      <th>71</th>\n",
       "      <td>NaN</td>\n",
       "      <td>13.046437</td>\n",
       "    </tr>\n",
       "    <tr>\n",
       "      <th>72</th>\n",
       "      <td>NaN</td>\n",
       "      <td>17.170622</td>\n",
       "    </tr>\n",
       "    <tr>\n",
       "      <th>73</th>\n",
       "      <td>NaN</td>\n",
       "      <td>12.947047</td>\n",
       "    </tr>\n",
       "    <tr>\n",
       "      <th>74</th>\n",
       "      <td>NaN</td>\n",
       "      <td>33.845531</td>\n",
       "    </tr>\n",
       "    <tr>\n",
       "      <th>75</th>\n",
       "      <td>NaN</td>\n",
       "      <td>13.818363</td>\n",
       "    </tr>\n",
       "    <tr>\n",
       "      <th>76</th>\n",
       "      <td>NaN</td>\n",
       "      <td>29.636515</td>\n",
       "    </tr>\n",
       "    <tr>\n",
       "      <th>77</th>\n",
       "      <td>NaN</td>\n",
       "      <td>15.462411</td>\n",
       "    </tr>\n",
       "    <tr>\n",
       "      <th>78</th>\n",
       "      <td>NaN</td>\n",
       "      <td>32.036835</td>\n",
       "    </tr>\n",
       "    <tr>\n",
       "      <th>79</th>\n",
       "      <td>NaN</td>\n",
       "      <td>38.419170</td>\n",
       "    </tr>\n",
       "    <tr>\n",
       "      <th>80</th>\n",
       "      <td>NaN</td>\n",
       "      <td>17.327377</td>\n",
       "    </tr>\n",
       "    <tr>\n",
       "      <th>81</th>\n",
       "      <td>NaN</td>\n",
       "      <td>65.895714</td>\n",
       "    </tr>\n",
       "    <tr>\n",
       "      <th>82</th>\n",
       "      <td>NaN</td>\n",
       "      <td>5.453428</td>\n",
       "    </tr>\n",
       "    <tr>\n",
       "      <th>83</th>\n",
       "      <td>NaN</td>\n",
       "      <td>14.939605</td>\n",
       "    </tr>\n",
       "    <tr>\n",
       "      <th>84</th>\n",
       "      <td>NaN</td>\n",
       "      <td>26.479897</td>\n",
       "    </tr>\n",
       "    <tr>\n",
       "      <th>85</th>\n",
       "      <td>NaN</td>\n",
       "      <td>102.364052</td>\n",
       "    </tr>\n",
       "    <tr>\n",
       "      <th>86</th>\n",
       "      <td>NaN</td>\n",
       "      <td>28.039728</td>\n",
       "    </tr>\n",
       "    <tr>\n",
       "      <th>87</th>\n",
       "      <td>NaN</td>\n",
       "      <td>24.077166</td>\n",
       "    </tr>\n",
       "    <tr>\n",
       "      <th>88</th>\n",
       "      <td>NaN</td>\n",
       "      <td>5.621035</td>\n",
       "    </tr>\n",
       "    <tr>\n",
       "      <th>89</th>\n",
       "      <td>NaN</td>\n",
       "      <td>39.155781</td>\n",
       "    </tr>\n",
       "    <tr>\n",
       "      <th>90</th>\n",
       "      <td>NaN</td>\n",
       "      <td>12.580193</td>\n",
       "    </tr>\n",
       "    <tr>\n",
       "      <th>91</th>\n",
       "      <td>NaN</td>\n",
       "      <td>16.264320</td>\n",
       "    </tr>\n",
       "    <tr>\n",
       "      <th>92</th>\n",
       "      <td>NaN</td>\n",
       "      <td>53.028542</td>\n",
       "    </tr>\n",
       "    <tr>\n",
       "      <th>93</th>\n",
       "      <td>NaN</td>\n",
       "      <td>10.822547</td>\n",
       "    </tr>\n",
       "    <tr>\n",
       "      <th>94</th>\n",
       "      <td>NaN</td>\n",
       "      <td>8.162611</td>\n",
       "    </tr>\n",
       "    <tr>\n",
       "      <th>95</th>\n",
       "      <td>NaN</td>\n",
       "      <td>8.249489</td>\n",
       "    </tr>\n",
       "    <tr>\n",
       "      <th>96</th>\n",
       "      <td>NaN</td>\n",
       "      <td>4.665089</td>\n",
       "    </tr>\n",
       "    <tr>\n",
       "      <th>97</th>\n",
       "      <td>NaN</td>\n",
       "      <td>44.346813</td>\n",
       "    </tr>\n",
       "    <tr>\n",
       "      <th>98</th>\n",
       "      <td>NaN</td>\n",
       "      <td>14.999650</td>\n",
       "    </tr>\n",
       "    <tr>\n",
       "      <th>99</th>\n",
       "      <td>NaN</td>\n",
       "      <td>10.902778</td>\n",
       "    </tr>\n",
       "  </tbody>\n",
       "</table>\n",
       "<p>100 rows × 2 columns</p>\n",
       "</div>"
      ],
      "text/plain": [
       "    key  fare_amount\n",
       "0   NaN     9.322248\n",
       "1   NaN    47.666405\n",
       "2   NaN    92.411446\n",
       "3   NaN     7.783605\n",
       "4   NaN    28.691135\n",
       "5   NaN     6.382970\n",
       "6   NaN    10.972637\n",
       "7   NaN     8.421568\n",
       "8   NaN     9.001486\n",
       "9   NaN    12.111347\n",
       "10  NaN    19.002537\n",
       "11  NaN    13.764061\n",
       "12  NaN    12.527177\n",
       "13  NaN     4.249315\n",
       "14  NaN    12.488822\n",
       "15  NaN    14.045624\n",
       "16  NaN    35.822437\n",
       "17  NaN     7.199153\n",
       "18  NaN    98.982178\n",
       "19  NaN    35.889297\n",
       "20  NaN    98.041519\n",
       "21  NaN     8.806205\n",
       "22  NaN    29.394186\n",
       "23  NaN    15.861186\n",
       "24  NaN     6.197556\n",
       "25  NaN    62.979927\n",
       "26  NaN    27.327602\n",
       "27  NaN    37.414570\n",
       "28  NaN    16.629673\n",
       "29  NaN    20.468666\n",
       "..  ...          ...\n",
       "70  NaN    65.615219\n",
       "71  NaN    13.046437\n",
       "72  NaN    17.170622\n",
       "73  NaN    12.947047\n",
       "74  NaN    33.845531\n",
       "75  NaN    13.818363\n",
       "76  NaN    29.636515\n",
       "77  NaN    15.462411\n",
       "78  NaN    32.036835\n",
       "79  NaN    38.419170\n",
       "80  NaN    17.327377\n",
       "81  NaN    65.895714\n",
       "82  NaN     5.453428\n",
       "83  NaN    14.939605\n",
       "84  NaN    26.479897\n",
       "85  NaN   102.364052\n",
       "86  NaN    28.039728\n",
       "87  NaN    24.077166\n",
       "88  NaN     5.621035\n",
       "89  NaN    39.155781\n",
       "90  NaN    12.580193\n",
       "91  NaN    16.264320\n",
       "92  NaN    53.028542\n",
       "93  NaN    10.822547\n",
       "94  NaN     8.162611\n",
       "95  NaN     8.249489\n",
       "96  NaN     4.665089\n",
       "97  NaN    44.346813\n",
       "98  NaN    14.999650\n",
       "99  NaN    10.902778\n",
       "\n",
       "[100 rows x 2 columns]"
      ]
     },
     "execution_count": 1128,
     "metadata": {},
     "output_type": "execute_result"
    }
   ],
   "source": [
    "submission = pd.read_csv('D:/sample_submission.csv')\n",
    "submission['fare_amount'] = y_test_pred\n",
    "submission.to_csv('D:/submission_K_39k_300_15_9n1.csv', index=False)\n",
    "submission"
   ]
  },
  {
   "cell_type": "markdown",
   "metadata": {
    "_uuid": "62ebb77d791cb2ec185aacf51b966972e9c9166a"
   },
   "source": [
    "---------------------------"
   ]
  },
  {
   "cell_type": "code",
   "execution_count": 1129,
   "metadata": {
    "_uuid": "9fd66034aef20fff0ab4d93d75611216d7f79dce"
   },
   "outputs": [],
   "source": [
    "from sklearn.model_selection import train_test_split\n",
    "train_X, val_X, train_y, val_y =train_test_split(X,y,test_size=0.2,random_state=0)"
   ]
  },
  {
   "cell_type": "code",
   "execution_count": 1130,
   "metadata": {
    "_uuid": "e0da06b0e3e4ffe1799ff1fb6cc2c4d80aeb01cf"
   },
   "outputs": [
    {
     "name": "stdout",
     "output_type": "stream",
     "text": [
      "[17:58:19] WARNING: C:/Jenkins/workspace/xgboost-win64_release_0.90/src/objective/regression_obj.cu:152: reg:linear is now deprecated in favor of reg:squarederror.\n"
     ]
    }
   ],
   "source": [
    "import xgboost\n",
    "Regression_xgbooost =xgboost.XGBRegressor(n_estimators=300,max_depth=15,max_leaves=9,random_state=0)\n",
    "Regression_xgbooost.fit(train_X,train_y)\n",
    "y_pred=Regression_xgbooost.predict(val_X)"
   ]
  },
  {
   "cell_type": "code",
   "execution_count": 1131,
   "metadata": {
    "_uuid": "b3faca9047deea56d82480e4001eb6523dec4d53"
   },
   "outputs": [
    {
     "name": "stdout",
     "output_type": "stream",
     "text": [
      "1.8248990720268705\n"
     ]
    }
   ],
   "source": [
    "from sklearn.metrics import mean_absolute_error\n",
    "print(mean_absolute_error(val_y,y_pred))"
   ]
  }
 ],
 "metadata": {
  "kernelspec": {
   "display_name": "Python 3",
   "language": "python",
   "name": "python3"
  },
  "language_info": {
   "codemirror_mode": {
    "name": "ipython",
    "version": 3
   },
   "file_extension": ".py",
   "mimetype": "text/x-python",
   "name": "python",
   "nbconvert_exporter": "python",
   "pygments_lexer": "ipython3",
   "version": "3.7.3"
  }
 },
 "nbformat": 4,
 "nbformat_minor": 1
}
